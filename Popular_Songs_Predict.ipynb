{
 "cells": [
  {
   "cell_type": "code",
   "execution_count": 1,
   "metadata": {},
   "outputs": [],
   "source": [
    "import pandas as pd\n",
    "import numpy as np\n",
    "import matplotlib.pyplot as plt\n",
    "import seaborn as sns\n",
    "\n",
    "%matplotlib inline\n",
    "sns.set()"
   ]
  },
  {
   "cell_type": "code",
   "execution_count": 2,
   "metadata": {},
   "outputs": [],
   "source": [
    "songs = pd.read_csv('songs.csv', encoding='latin-1')"
   ]
  },
  {
   "cell_type": "markdown",
   "metadata": {},
   "source": [
    "# Dataset exploration"
   ]
  },
  {
   "cell_type": "code",
   "execution_count": 3,
   "metadata": {},
   "outputs": [
    {
     "data": {
      "text/html": [
       "<div>\n",
       "<style scoped>\n",
       "    .dataframe tbody tr th:only-of-type {\n",
       "        vertical-align: middle;\n",
       "    }\n",
       "\n",
       "    .dataframe tbody tr th {\n",
       "        vertical-align: top;\n",
       "    }\n",
       "\n",
       "    .dataframe thead th {\n",
       "        text-align: right;\n",
       "    }\n",
       "</style>\n",
       "<table border=\"1\" class=\"dataframe\">\n",
       "  <thead>\n",
       "    <tr style=\"text-align: right;\">\n",
       "      <th></th>\n",
       "      <th>year</th>\n",
       "      <th>songtitle</th>\n",
       "      <th>artistname</th>\n",
       "      <th>songID</th>\n",
       "      <th>artistID</th>\n",
       "      <th>timesignature</th>\n",
       "      <th>timesignature_confidence</th>\n",
       "      <th>loudness</th>\n",
       "      <th>tempo</th>\n",
       "      <th>tempo_confidence</th>\n",
       "      <th>...</th>\n",
       "      <th>timbre_7_max</th>\n",
       "      <th>timbre_8_min</th>\n",
       "      <th>timbre_8_max</th>\n",
       "      <th>timbre_9_min</th>\n",
       "      <th>timbre_9_max</th>\n",
       "      <th>timbre_10_min</th>\n",
       "      <th>timbre_10_max</th>\n",
       "      <th>timbre_11_min</th>\n",
       "      <th>timbre_11_max</th>\n",
       "      <th>Top10</th>\n",
       "    </tr>\n",
       "  </thead>\n",
       "  <tbody>\n",
       "    <tr>\n",
       "      <th>0</th>\n",
       "      <td>2010</td>\n",
       "      <td>This Is the House That Doubt Built</td>\n",
       "      <td>A Day to Remember</td>\n",
       "      <td>SOBGGAB12C5664F054</td>\n",
       "      <td>AROBSHL1187B9AFB01</td>\n",
       "      <td>3</td>\n",
       "      <td>0.853</td>\n",
       "      <td>-4.262</td>\n",
       "      <td>91.525</td>\n",
       "      <td>0.953</td>\n",
       "      <td>...</td>\n",
       "      <td>82.475</td>\n",
       "      <td>-52.025</td>\n",
       "      <td>39.116</td>\n",
       "      <td>-35.368</td>\n",
       "      <td>71.642</td>\n",
       "      <td>-126.440</td>\n",
       "      <td>18.658</td>\n",
       "      <td>-44.770</td>\n",
       "      <td>25.989</td>\n",
       "      <td>0</td>\n",
       "    </tr>\n",
       "    <tr>\n",
       "      <th>1</th>\n",
       "      <td>2010</td>\n",
       "      <td>Sticks &amp; Bricks</td>\n",
       "      <td>A Day to Remember</td>\n",
       "      <td>SOPAQHU1315CD47F31</td>\n",
       "      <td>AROBSHL1187B9AFB01</td>\n",
       "      <td>4</td>\n",
       "      <td>1.000</td>\n",
       "      <td>-4.051</td>\n",
       "      <td>140.048</td>\n",
       "      <td>0.921</td>\n",
       "      <td>...</td>\n",
       "      <td>106.918</td>\n",
       "      <td>-61.320</td>\n",
       "      <td>35.378</td>\n",
       "      <td>-81.928</td>\n",
       "      <td>74.574</td>\n",
       "      <td>-103.808</td>\n",
       "      <td>121.935</td>\n",
       "      <td>-38.892</td>\n",
       "      <td>22.513</td>\n",
       "      <td>0</td>\n",
       "    </tr>\n",
       "    <tr>\n",
       "      <th>2</th>\n",
       "      <td>2010</td>\n",
       "      <td>All I Want</td>\n",
       "      <td>A Day to Remember</td>\n",
       "      <td>SOOIZOU1376E7C6386</td>\n",
       "      <td>AROBSHL1187B9AFB01</td>\n",
       "      <td>4</td>\n",
       "      <td>1.000</td>\n",
       "      <td>-3.571</td>\n",
       "      <td>160.512</td>\n",
       "      <td>0.489</td>\n",
       "      <td>...</td>\n",
       "      <td>80.621</td>\n",
       "      <td>-59.773</td>\n",
       "      <td>45.979</td>\n",
       "      <td>-46.293</td>\n",
       "      <td>59.904</td>\n",
       "      <td>-108.313</td>\n",
       "      <td>33.300</td>\n",
       "      <td>-43.733</td>\n",
       "      <td>25.744</td>\n",
       "      <td>0</td>\n",
       "    </tr>\n",
       "    <tr>\n",
       "      <th>3</th>\n",
       "      <td>2010</td>\n",
       "      <td>It's Complicated</td>\n",
       "      <td>A Day to Remember</td>\n",
       "      <td>SODRYWD1315CD49DBE</td>\n",
       "      <td>AROBSHL1187B9AFB01</td>\n",
       "      <td>4</td>\n",
       "      <td>1.000</td>\n",
       "      <td>-3.815</td>\n",
       "      <td>97.525</td>\n",
       "      <td>0.794</td>\n",
       "      <td>...</td>\n",
       "      <td>96.675</td>\n",
       "      <td>-78.660</td>\n",
       "      <td>41.088</td>\n",
       "      <td>-49.194</td>\n",
       "      <td>95.440</td>\n",
       "      <td>-102.676</td>\n",
       "      <td>46.422</td>\n",
       "      <td>-59.439</td>\n",
       "      <td>37.082</td>\n",
       "      <td>0</td>\n",
       "    </tr>\n",
       "    <tr>\n",
       "      <th>4</th>\n",
       "      <td>2010</td>\n",
       "      <td>2nd Sucks</td>\n",
       "      <td>A Day to Remember</td>\n",
       "      <td>SOICMQB1315CD46EE3</td>\n",
       "      <td>AROBSHL1187B9AFB01</td>\n",
       "      <td>4</td>\n",
       "      <td>0.788</td>\n",
       "      <td>-4.707</td>\n",
       "      <td>140.053</td>\n",
       "      <td>0.286</td>\n",
       "      <td>...</td>\n",
       "      <td>110.332</td>\n",
       "      <td>-56.450</td>\n",
       "      <td>37.555</td>\n",
       "      <td>-48.588</td>\n",
       "      <td>67.570</td>\n",
       "      <td>-52.796</td>\n",
       "      <td>22.888</td>\n",
       "      <td>-50.414</td>\n",
       "      <td>32.758</td>\n",
       "      <td>0</td>\n",
       "    </tr>\n",
       "    <tr>\n",
       "      <th>...</th>\n",
       "      <td>...</td>\n",
       "      <td>...</td>\n",
       "      <td>...</td>\n",
       "      <td>...</td>\n",
       "      <td>...</td>\n",
       "      <td>...</td>\n",
       "      <td>...</td>\n",
       "      <td>...</td>\n",
       "      <td>...</td>\n",
       "      <td>...</td>\n",
       "      <td>...</td>\n",
       "      <td>...</td>\n",
       "      <td>...</td>\n",
       "      <td>...</td>\n",
       "      <td>...</td>\n",
       "      <td>...</td>\n",
       "      <td>...</td>\n",
       "      <td>...</td>\n",
       "      <td>...</td>\n",
       "      <td>...</td>\n",
       "      <td>...</td>\n",
       "    </tr>\n",
       "    <tr>\n",
       "      <th>7569</th>\n",
       "      <td>1990</td>\n",
       "      <td>She's Gone</td>\n",
       "      <td>Y&amp;T</td>\n",
       "      <td>SOSIEQB12A6D4FC59D</td>\n",
       "      <td>ARGQANQ11F50C4769E</td>\n",
       "      <td>4</td>\n",
       "      <td>1.000</td>\n",
       "      <td>-10.197</td>\n",
       "      <td>93.140</td>\n",
       "      <td>0.859</td>\n",
       "      <td>...</td>\n",
       "      <td>38.120</td>\n",
       "      <td>-66.638</td>\n",
       "      <td>50.105</td>\n",
       "      <td>-40.692</td>\n",
       "      <td>43.763</td>\n",
       "      <td>-59.707</td>\n",
       "      <td>49.414</td>\n",
       "      <td>-53.970</td>\n",
       "      <td>68.303</td>\n",
       "      <td>0</td>\n",
       "    </tr>\n",
       "    <tr>\n",
       "      <th>7570</th>\n",
       "      <td>1990</td>\n",
       "      <td>Let It Out</td>\n",
       "      <td>Y&amp;T</td>\n",
       "      <td>SOIGIQI12A6D4FC59E</td>\n",
       "      <td>ARGQANQ11F50C4769E</td>\n",
       "      <td>4</td>\n",
       "      <td>1.000</td>\n",
       "      <td>-12.392</td>\n",
       "      <td>79.858</td>\n",
       "      <td>0.196</td>\n",
       "      <td>...</td>\n",
       "      <td>83.454</td>\n",
       "      <td>-83.707</td>\n",
       "      <td>44.124</td>\n",
       "      <td>-51.628</td>\n",
       "      <td>69.929</td>\n",
       "      <td>-97.153</td>\n",
       "      <td>36.745</td>\n",
       "      <td>-61.243</td>\n",
       "      <td>56.902</td>\n",
       "      <td>0</td>\n",
       "    </tr>\n",
       "    <tr>\n",
       "      <th>7571</th>\n",
       "      <td>1990</td>\n",
       "      <td>Ten Lovers</td>\n",
       "      <td>Y&amp;T</td>\n",
       "      <td>SOLNEQO12A6D4FC59F</td>\n",
       "      <td>ARGQANQ11F50C4769E</td>\n",
       "      <td>4</td>\n",
       "      <td>0.984</td>\n",
       "      <td>-10.304</td>\n",
       "      <td>91.760</td>\n",
       "      <td>0.592</td>\n",
       "      <td>...</td>\n",
       "      <td>103.413</td>\n",
       "      <td>-101.464</td>\n",
       "      <td>36.152</td>\n",
       "      <td>-45.387</td>\n",
       "      <td>48.352</td>\n",
       "      <td>-57.103</td>\n",
       "      <td>67.641</td>\n",
       "      <td>-53.729</td>\n",
       "      <td>65.176</td>\n",
       "      <td>0</td>\n",
       "    </tr>\n",
       "    <tr>\n",
       "      <th>7572</th>\n",
       "      <td>1990</td>\n",
       "      <td>Goin' Off The Deep End</td>\n",
       "      <td>Y&amp;T</td>\n",
       "      <td>SOEMJEP12A58A7E7B5</td>\n",
       "      <td>ARGQANQ11F50C4769E</td>\n",
       "      <td>4</td>\n",
       "      <td>0.907</td>\n",
       "      <td>-9.295</td>\n",
       "      <td>110.907</td>\n",
       "      <td>0.838</td>\n",
       "      <td>...</td>\n",
       "      <td>108.688</td>\n",
       "      <td>-55.893</td>\n",
       "      <td>42.222</td>\n",
       "      <td>-76.631</td>\n",
       "      <td>68.336</td>\n",
       "      <td>-83.284</td>\n",
       "      <td>56.476</td>\n",
       "      <td>-51.687</td>\n",
       "      <td>59.427</td>\n",
       "      <td>0</td>\n",
       "    </tr>\n",
       "    <tr>\n",
       "      <th>7573</th>\n",
       "      <td>1990</td>\n",
       "      <td>Surrender</td>\n",
       "      <td>Y&amp;T</td>\n",
       "      <td>SOLBQSX12A6D4FC5A0</td>\n",
       "      <td>ARGQANQ11F50C4769E</td>\n",
       "      <td>4</td>\n",
       "      <td>0.987</td>\n",
       "      <td>-9.762</td>\n",
       "      <td>139.650</td>\n",
       "      <td>0.781</td>\n",
       "      <td>...</td>\n",
       "      <td>87.098</td>\n",
       "      <td>-48.440</td>\n",
       "      <td>52.198</td>\n",
       "      <td>-60.673</td>\n",
       "      <td>48.418</td>\n",
       "      <td>-120.625</td>\n",
       "      <td>49.593</td>\n",
       "      <td>-47.656</td>\n",
       "      <td>70.005</td>\n",
       "      <td>0</td>\n",
       "    </tr>\n",
       "  </tbody>\n",
       "</table>\n",
       "<p>7574 rows × 39 columns</p>\n",
       "</div>"
      ],
      "text/plain": [
       "      year                           songtitle         artistname  \\\n",
       "0     2010  This Is the House That Doubt Built  A Day to Remember   \n",
       "1     2010                     Sticks & Bricks  A Day to Remember   \n",
       "2     2010                          All I Want  A Day to Remember   \n",
       "3     2010                    It's Complicated  A Day to Remember   \n",
       "4     2010                           2nd Sucks  A Day to Remember   \n",
       "...    ...                                 ...                ...   \n",
       "7569  1990                          She's Gone                Y&T   \n",
       "7570  1990                          Let It Out                Y&T   \n",
       "7571  1990                          Ten Lovers                Y&T   \n",
       "7572  1990              Goin' Off The Deep End                Y&T   \n",
       "7573  1990                           Surrender                Y&T   \n",
       "\n",
       "                  songID            artistID  timesignature  \\\n",
       "0     SOBGGAB12C5664F054  AROBSHL1187B9AFB01              3   \n",
       "1     SOPAQHU1315CD47F31  AROBSHL1187B9AFB01              4   \n",
       "2     SOOIZOU1376E7C6386  AROBSHL1187B9AFB01              4   \n",
       "3     SODRYWD1315CD49DBE  AROBSHL1187B9AFB01              4   \n",
       "4     SOICMQB1315CD46EE3  AROBSHL1187B9AFB01              4   \n",
       "...                  ...                 ...            ...   \n",
       "7569  SOSIEQB12A6D4FC59D  ARGQANQ11F50C4769E              4   \n",
       "7570  SOIGIQI12A6D4FC59E  ARGQANQ11F50C4769E              4   \n",
       "7571  SOLNEQO12A6D4FC59F  ARGQANQ11F50C4769E              4   \n",
       "7572  SOEMJEP12A58A7E7B5  ARGQANQ11F50C4769E              4   \n",
       "7573  SOLBQSX12A6D4FC5A0  ARGQANQ11F50C4769E              4   \n",
       "\n",
       "      timesignature_confidence  loudness    tempo  tempo_confidence  ...  \\\n",
       "0                        0.853    -4.262   91.525             0.953  ...   \n",
       "1                        1.000    -4.051  140.048             0.921  ...   \n",
       "2                        1.000    -3.571  160.512             0.489  ...   \n",
       "3                        1.000    -3.815   97.525             0.794  ...   \n",
       "4                        0.788    -4.707  140.053             0.286  ...   \n",
       "...                        ...       ...      ...               ...  ...   \n",
       "7569                     1.000   -10.197   93.140             0.859  ...   \n",
       "7570                     1.000   -12.392   79.858             0.196  ...   \n",
       "7571                     0.984   -10.304   91.760             0.592  ...   \n",
       "7572                     0.907    -9.295  110.907             0.838  ...   \n",
       "7573                     0.987    -9.762  139.650             0.781  ...   \n",
       "\n",
       "      timbre_7_max  timbre_8_min  timbre_8_max  timbre_9_min  timbre_9_max  \\\n",
       "0           82.475       -52.025        39.116       -35.368        71.642   \n",
       "1          106.918       -61.320        35.378       -81.928        74.574   \n",
       "2           80.621       -59.773        45.979       -46.293        59.904   \n",
       "3           96.675       -78.660        41.088       -49.194        95.440   \n",
       "4          110.332       -56.450        37.555       -48.588        67.570   \n",
       "...            ...           ...           ...           ...           ...   \n",
       "7569        38.120       -66.638        50.105       -40.692        43.763   \n",
       "7570        83.454       -83.707        44.124       -51.628        69.929   \n",
       "7571       103.413      -101.464        36.152       -45.387        48.352   \n",
       "7572       108.688       -55.893        42.222       -76.631        68.336   \n",
       "7573        87.098       -48.440        52.198       -60.673        48.418   \n",
       "\n",
       "      timbre_10_min  timbre_10_max  timbre_11_min  timbre_11_max  Top10  \n",
       "0          -126.440         18.658        -44.770         25.989      0  \n",
       "1          -103.808        121.935        -38.892         22.513      0  \n",
       "2          -108.313         33.300        -43.733         25.744      0  \n",
       "3          -102.676         46.422        -59.439         37.082      0  \n",
       "4           -52.796         22.888        -50.414         32.758      0  \n",
       "...             ...            ...            ...            ...    ...  \n",
       "7569        -59.707         49.414        -53.970         68.303      0  \n",
       "7570        -97.153         36.745        -61.243         56.902      0  \n",
       "7571        -57.103         67.641        -53.729         65.176      0  \n",
       "7572        -83.284         56.476        -51.687         59.427      0  \n",
       "7573       -120.625         49.593        -47.656         70.005      0  \n",
       "\n",
       "[7574 rows x 39 columns]"
      ]
     },
     "execution_count": 3,
     "metadata": {},
     "output_type": "execute_result"
    }
   ],
   "source": [
    "songs"
   ]
  },
  {
   "cell_type": "markdown",
   "metadata": {},
   "source": [
    "### Checking for missing values"
   ]
  },
  {
   "cell_type": "code",
   "execution_count": 7,
   "metadata": {},
   "outputs": [
    {
     "data": {
      "text/plain": [
       "year                        0\n",
       "songtitle                   0\n",
       "artistname                  0\n",
       "songID                      0\n",
       "artistID                    0\n",
       "timesignature               0\n",
       "timesignature_confidence    0\n",
       "loudness                    0\n",
       "tempo                       0\n",
       "tempo_confidence            0\n",
       "key                         0\n",
       "key_confidence              0\n",
       "energy                      0\n",
       "pitch                       0\n",
       "timbre_0_min                0\n",
       "timbre_0_max                0\n",
       "timbre_1_min                0\n",
       "timbre_1_max                0\n",
       "timbre_2_min                0\n",
       "timbre_2_max                0\n",
       "timbre_3_min                0\n",
       "timbre_3_max                0\n",
       "timbre_4_min                0\n",
       "timbre_4_max                0\n",
       "timbre_5_min                0\n",
       "timbre_5_max                0\n",
       "timbre_6_min                0\n",
       "timbre_6_max                0\n",
       "timbre_7_min                0\n",
       "timbre_7_max                0\n",
       "timbre_8_min                0\n",
       "timbre_8_max                0\n",
       "timbre_9_min                0\n",
       "timbre_9_max                0\n",
       "timbre_10_min               0\n",
       "timbre_10_max               0\n",
       "timbre_11_min               0\n",
       "timbre_11_max               0\n",
       "Top10                       0\n",
       "dtype: int64"
      ]
     },
     "execution_count": 7,
     "metadata": {},
     "output_type": "execute_result"
    }
   ],
   "source": [
    "songs.isna().sum()"
   ]
  },
  {
   "cell_type": "markdown",
   "metadata": {},
   "source": [
    "### Looking at the datatypes & non_null count"
   ]
  },
  {
   "cell_type": "code",
   "execution_count": 8,
   "metadata": {},
   "outputs": [
    {
     "name": "stdout",
     "output_type": "stream",
     "text": [
      "<class 'pandas.core.frame.DataFrame'>\n",
      "RangeIndex: 7574 entries, 0 to 7573\n",
      "Data columns (total 39 columns):\n",
      " #   Column                    Non-Null Count  Dtype  \n",
      "---  ------                    --------------  -----  \n",
      " 0   year                      7574 non-null   int64  \n",
      " 1   songtitle                 7574 non-null   object \n",
      " 2   artistname                7574 non-null   object \n",
      " 3   songID                    7574 non-null   object \n",
      " 4   artistID                  7574 non-null   object \n",
      " 5   timesignature             7574 non-null   int64  \n",
      " 6   timesignature_confidence  7574 non-null   float64\n",
      " 7   loudness                  7574 non-null   float64\n",
      " 8   tempo                     7574 non-null   float64\n",
      " 9   tempo_confidence          7574 non-null   float64\n",
      " 10  key                       7574 non-null   int64  \n",
      " 11  key_confidence            7574 non-null   float64\n",
      " 12  energy                    7574 non-null   float64\n",
      " 13  pitch                     7574 non-null   float64\n",
      " 14  timbre_0_min              7574 non-null   float64\n",
      " 15  timbre_0_max              7574 non-null   float64\n",
      " 16  timbre_1_min              7574 non-null   float64\n",
      " 17  timbre_1_max              7574 non-null   float64\n",
      " 18  timbre_2_min              7574 non-null   float64\n",
      " 19  timbre_2_max              7574 non-null   float64\n",
      " 20  timbre_3_min              7574 non-null   float64\n",
      " 21  timbre_3_max              7574 non-null   float64\n",
      " 22  timbre_4_min              7574 non-null   float64\n",
      " 23  timbre_4_max              7574 non-null   float64\n",
      " 24  timbre_5_min              7574 non-null   float64\n",
      " 25  timbre_5_max              7574 non-null   float64\n",
      " 26  timbre_6_min              7574 non-null   float64\n",
      " 27  timbre_6_max              7574 non-null   float64\n",
      " 28  timbre_7_min              7574 non-null   float64\n",
      " 29  timbre_7_max              7574 non-null   float64\n",
      " 30  timbre_8_min              7574 non-null   float64\n",
      " 31  timbre_8_max              7574 non-null   float64\n",
      " 32  timbre_9_min              7574 non-null   float64\n",
      " 33  timbre_9_max              7574 non-null   float64\n",
      " 34  timbre_10_min             7574 non-null   float64\n",
      " 35  timbre_10_max             7574 non-null   float64\n",
      " 36  timbre_11_min             7574 non-null   float64\n",
      " 37  timbre_11_max             7574 non-null   float64\n",
      " 38  Top10                     7574 non-null   int64  \n",
      "dtypes: float64(31), int64(4), object(4)\n",
      "memory usage: 2.1+ MB\n"
     ]
    }
   ],
   "source": [
    "songs.info()"
   ]
  },
  {
   "cell_type": "code",
   "execution_count": 9,
   "metadata": {},
   "outputs": [
    {
     "data": {
      "text/plain": [
       "Index(['year', 'songtitle', 'artistname', 'songID', 'artistID',\n",
       "       'timesignature', 'timesignature_confidence', 'loudness', 'tempo',\n",
       "       'tempo_confidence', 'key', 'key_confidence', 'energy', 'pitch',\n",
       "       'timbre_0_min', 'timbre_0_max', 'timbre_1_min', 'timbre_1_max',\n",
       "       'timbre_2_min', 'timbre_2_max', 'timbre_3_min', 'timbre_3_max',\n",
       "       'timbre_4_min', 'timbre_4_max', 'timbre_5_min', 'timbre_5_max',\n",
       "       'timbre_6_min', 'timbre_6_max', 'timbre_7_min', 'timbre_7_max',\n",
       "       'timbre_8_min', 'timbre_8_max', 'timbre_9_min', 'timbre_9_max',\n",
       "       'timbre_10_min', 'timbre_10_max', 'timbre_11_min', 'timbre_11_max',\n",
       "       'Top10'],\n",
       "      dtype='object')"
      ]
     },
     "execution_count": 9,
     "metadata": {},
     "output_type": "execute_result"
    }
   ],
   "source": [
    "songs.columns"
   ]
  },
  {
   "cell_type": "code",
   "execution_count": 10,
   "metadata": {},
   "outputs": [
    {
     "data": {
      "text/plain": [
       "1032"
      ]
     },
     "execution_count": 10,
     "metadata": {},
     "output_type": "execute_result"
    }
   ],
   "source": [
    "songs.artistname.nunique()"
   ]
  },
  {
   "cell_type": "code",
   "execution_count": 11,
   "metadata": {},
   "outputs": [
    {
     "data": {
      "text/plain": [
       "year                                      2010\n",
       "songtitle                      Sticks & Bricks\n",
       "artistname                   A Day to Remember\n",
       "songID                      SOPAQHU1315CD47F31\n",
       "artistID                    AROBSHL1187B9AFB01\n",
       "timesignature                                4\n",
       "timesignature_confidence                     1\n",
       "loudness                                -4.051\n",
       "tempo                                  140.048\n",
       "tempo_confidence                         0.921\n",
       "key                                         10\n",
       "key_confidence                           0.469\n",
       "energy                                 0.98471\n",
       "pitch                                    0.025\n",
       "timbre_0_min                                 0\n",
       "timbre_0_max                            57.414\n",
       "timbre_1_min                           -37.351\n",
       "timbre_1_max                            171.13\n",
       "timbre_2_min                          -149.589\n",
       "timbre_2_max                           180.334\n",
       "timbre_3_min                          -380.143\n",
       "timbre_3_max                           384.166\n",
       "timbre_4_min                           -48.662\n",
       "timbre_4_max                           100.414\n",
       "timbre_5_min                           -87.267\n",
       "timbre_5_max                            42.798\n",
       "timbre_6_min                           -86.895\n",
       "timbre_6_max                            75.455\n",
       "timbre_7_min                           -65.807\n",
       "timbre_7_max                           106.918\n",
       "timbre_8_min                            -61.32\n",
       "timbre_8_max                            35.378\n",
       "timbre_9_min                           -81.928\n",
       "timbre_9_max                            74.574\n",
       "timbre_10_min                         -103.808\n",
       "timbre_10_max                          121.935\n",
       "timbre_11_min                          -38.892\n",
       "timbre_11_max                           22.513\n",
       "Top10                                        0\n",
       "Name: 1, dtype: object"
      ]
     },
     "execution_count": 11,
     "metadata": {},
     "output_type": "execute_result"
    }
   ],
   "source": [
    "songs.loc[1]"
   ]
  },
  {
   "cell_type": "markdown",
   "metadata": {},
   "source": [
    "## Data Exploration"
   ]
  },
  {
   "cell_type": "code",
   "execution_count": 12,
   "metadata": {},
   "outputs": [
    {
     "data": {
      "text/html": [
       "<div>\n",
       "<style scoped>\n",
       "    .dataframe tbody tr th:only-of-type {\n",
       "        vertical-align: middle;\n",
       "    }\n",
       "\n",
       "    .dataframe tbody tr th {\n",
       "        vertical-align: top;\n",
       "    }\n",
       "\n",
       "    .dataframe thead th {\n",
       "        text-align: right;\n",
       "    }\n",
       "</style>\n",
       "<table border=\"1\" class=\"dataframe\">\n",
       "  <thead>\n",
       "    <tr style=\"text-align: right;\">\n",
       "      <th></th>\n",
       "      <th>year</th>\n",
       "      <th>timesignature</th>\n",
       "      <th>timesignature_confidence</th>\n",
       "      <th>loudness</th>\n",
       "      <th>tempo</th>\n",
       "      <th>tempo_confidence</th>\n",
       "      <th>key</th>\n",
       "      <th>key_confidence</th>\n",
       "      <th>energy</th>\n",
       "      <th>pitch</th>\n",
       "      <th>...</th>\n",
       "      <th>timbre_7_max</th>\n",
       "      <th>timbre_8_min</th>\n",
       "      <th>timbre_8_max</th>\n",
       "      <th>timbre_9_min</th>\n",
       "      <th>timbre_9_max</th>\n",
       "      <th>timbre_10_min</th>\n",
       "      <th>timbre_10_max</th>\n",
       "      <th>timbre_11_min</th>\n",
       "      <th>timbre_11_max</th>\n",
       "      <th>Top10</th>\n",
       "    </tr>\n",
       "  </thead>\n",
       "  <tbody>\n",
       "    <tr>\n",
       "      <th>count</th>\n",
       "      <td>7574.000000</td>\n",
       "      <td>7574.000000</td>\n",
       "      <td>7574.000000</td>\n",
       "      <td>7574.000000</td>\n",
       "      <td>7574.000000</td>\n",
       "      <td>7574.000000</td>\n",
       "      <td>7574.000000</td>\n",
       "      <td>7574.000000</td>\n",
       "      <td>7574.000000</td>\n",
       "      <td>7574.000000</td>\n",
       "      <td>...</td>\n",
       "      <td>7574.000000</td>\n",
       "      <td>7574.000000</td>\n",
       "      <td>7574.000000</td>\n",
       "      <td>7574.000000</td>\n",
       "      <td>7574.000000</td>\n",
       "      <td>7574.000000</td>\n",
       "      <td>7574.000000</td>\n",
       "      <td>7574.000000</td>\n",
       "      <td>7574.000000</td>\n",
       "      <td>7574.000000</td>\n",
       "    </tr>\n",
       "    <tr>\n",
       "      <th>mean</th>\n",
       "      <td>2001.455902</td>\n",
       "      <td>3.893979</td>\n",
       "      <td>0.853307</td>\n",
       "      <td>-8.817262</td>\n",
       "      <td>107.348267</td>\n",
       "      <td>0.622866</td>\n",
       "      <td>5.384605</td>\n",
       "      <td>0.433843</td>\n",
       "      <td>0.675471</td>\n",
       "      <td>0.010817</td>\n",
       "      <td>...</td>\n",
       "      <td>95.653221</td>\n",
       "      <td>-63.703984</td>\n",
       "      <td>50.057489</td>\n",
       "      <td>-59.515016</td>\n",
       "      <td>68.028067</td>\n",
       "      <td>-87.340055</td>\n",
       "      <td>55.520722</td>\n",
       "      <td>-50.868457</td>\n",
       "      <td>47.490774</td>\n",
       "      <td>0.147742</td>\n",
       "    </tr>\n",
       "    <tr>\n",
       "      <th>std</th>\n",
       "      <td>5.815223</td>\n",
       "      <td>0.532561</td>\n",
       "      <td>0.243748</td>\n",
       "      <td>4.377079</td>\n",
       "      <td>24.665030</td>\n",
       "      <td>0.304656</td>\n",
       "      <td>3.572579</td>\n",
       "      <td>0.273826</td>\n",
       "      <td>0.243473</td>\n",
       "      <td>0.013671</td>\n",
       "      <td>...</td>\n",
       "      <td>26.859726</td>\n",
       "      <td>15.970244</td>\n",
       "      <td>14.463524</td>\n",
       "      <td>17.190527</td>\n",
       "      <td>20.381321</td>\n",
       "      <td>30.464274</td>\n",
       "      <td>23.549473</td>\n",
       "      <td>11.701530</td>\n",
       "      <td>12.463966</td>\n",
       "      <td>0.354868</td>\n",
       "    </tr>\n",
       "    <tr>\n",
       "      <th>min</th>\n",
       "      <td>1990.000000</td>\n",
       "      <td>0.000000</td>\n",
       "      <td>0.000000</td>\n",
       "      <td>-42.451000</td>\n",
       "      <td>0.000000</td>\n",
       "      <td>0.000000</td>\n",
       "      <td>0.000000</td>\n",
       "      <td>0.000000</td>\n",
       "      <td>0.000020</td>\n",
       "      <td>0.000000</td>\n",
       "      <td>...</td>\n",
       "      <td>15.699000</td>\n",
       "      <td>-158.756000</td>\n",
       "      <td>-25.955000</td>\n",
       "      <td>-149.507000</td>\n",
       "      <td>8.415000</td>\n",
       "      <td>-208.819000</td>\n",
       "      <td>-6.359000</td>\n",
       "      <td>-145.599000</td>\n",
       "      <td>7.200000</td>\n",
       "      <td>0.000000</td>\n",
       "    </tr>\n",
       "    <tr>\n",
       "      <th>25%</th>\n",
       "      <td>1997.000000</td>\n",
       "      <td>4.000000</td>\n",
       "      <td>0.819250</td>\n",
       "      <td>-10.847000</td>\n",
       "      <td>88.860250</td>\n",
       "      <td>0.372000</td>\n",
       "      <td>2.000000</td>\n",
       "      <td>0.204000</td>\n",
       "      <td>0.500138</td>\n",
       "      <td>0.003000</td>\n",
       "      <td>...</td>\n",
       "      <td>76.498000</td>\n",
       "      <td>-73.050750</td>\n",
       "      <td>40.584500</td>\n",
       "      <td>-70.282500</td>\n",
       "      <td>53.037250</td>\n",
       "      <td>-105.130250</td>\n",
       "      <td>39.196000</td>\n",
       "      <td>-58.058000</td>\n",
       "      <td>38.975250</td>\n",
       "      <td>0.000000</td>\n",
       "    </tr>\n",
       "    <tr>\n",
       "      <th>50%</th>\n",
       "      <td>2002.000000</td>\n",
       "      <td>4.000000</td>\n",
       "      <td>0.979000</td>\n",
       "      <td>-7.649000</td>\n",
       "      <td>103.268000</td>\n",
       "      <td>0.701500</td>\n",
       "      <td>6.000000</td>\n",
       "      <td>0.451500</td>\n",
       "      <td>0.718160</td>\n",
       "      <td>0.007000</td>\n",
       "      <td>...</td>\n",
       "      <td>94.632500</td>\n",
       "      <td>-62.661500</td>\n",
       "      <td>49.220000</td>\n",
       "      <td>-58.650000</td>\n",
       "      <td>65.935000</td>\n",
       "      <td>-83.074000</td>\n",
       "      <td>50.895000</td>\n",
       "      <td>-50.892500</td>\n",
       "      <td>46.437500</td>\n",
       "      <td>0.000000</td>\n",
       "    </tr>\n",
       "    <tr>\n",
       "      <th>75%</th>\n",
       "      <td>2006.000000</td>\n",
       "      <td>4.000000</td>\n",
       "      <td>1.000000</td>\n",
       "      <td>-5.640000</td>\n",
       "      <td>124.800500</td>\n",
       "      <td>0.892000</td>\n",
       "      <td>9.000000</td>\n",
       "      <td>0.646000</td>\n",
       "      <td>0.887396</td>\n",
       "      <td>0.014000</td>\n",
       "      <td>...</td>\n",
       "      <td>112.708250</td>\n",
       "      <td>-52.982750</td>\n",
       "      <td>58.462000</td>\n",
       "      <td>-47.699750</td>\n",
       "      <td>81.267000</td>\n",
       "      <td>-64.518000</td>\n",
       "      <td>66.593000</td>\n",
       "      <td>-43.292250</td>\n",
       "      <td>55.030250</td>\n",
       "      <td>0.000000</td>\n",
       "    </tr>\n",
       "    <tr>\n",
       "      <th>max</th>\n",
       "      <td>2010.000000</td>\n",
       "      <td>7.000000</td>\n",
       "      <td>1.000000</td>\n",
       "      <td>1.305000</td>\n",
       "      <td>244.307000</td>\n",
       "      <td>1.000000</td>\n",
       "      <td>11.000000</td>\n",
       "      <td>1.000000</td>\n",
       "      <td>0.998492</td>\n",
       "      <td>0.541000</td>\n",
       "      <td>...</td>\n",
       "      <td>214.819000</td>\n",
       "      <td>-2.382000</td>\n",
       "      <td>144.985000</td>\n",
       "      <td>1.140000</td>\n",
       "      <td>161.518000</td>\n",
       "      <td>-10.640000</td>\n",
       "      <td>192.417000</td>\n",
       "      <td>-6.497000</td>\n",
       "      <td>110.272000</td>\n",
       "      <td>1.000000</td>\n",
       "    </tr>\n",
       "  </tbody>\n",
       "</table>\n",
       "<p>8 rows × 35 columns</p>\n",
       "</div>"
      ],
      "text/plain": [
       "              year  timesignature  timesignature_confidence     loudness  \\\n",
       "count  7574.000000    7574.000000               7574.000000  7574.000000   \n",
       "mean   2001.455902       3.893979                  0.853307    -8.817262   \n",
       "std       5.815223       0.532561                  0.243748     4.377079   \n",
       "min    1990.000000       0.000000                  0.000000   -42.451000   \n",
       "25%    1997.000000       4.000000                  0.819250   -10.847000   \n",
       "50%    2002.000000       4.000000                  0.979000    -7.649000   \n",
       "75%    2006.000000       4.000000                  1.000000    -5.640000   \n",
       "max    2010.000000       7.000000                  1.000000     1.305000   \n",
       "\n",
       "             tempo  tempo_confidence          key  key_confidence  \\\n",
       "count  7574.000000       7574.000000  7574.000000     7574.000000   \n",
       "mean    107.348267          0.622866     5.384605        0.433843   \n",
       "std      24.665030          0.304656     3.572579        0.273826   \n",
       "min       0.000000          0.000000     0.000000        0.000000   \n",
       "25%      88.860250          0.372000     2.000000        0.204000   \n",
       "50%     103.268000          0.701500     6.000000        0.451500   \n",
       "75%     124.800500          0.892000     9.000000        0.646000   \n",
       "max     244.307000          1.000000    11.000000        1.000000   \n",
       "\n",
       "            energy        pitch  ...  timbre_7_max  timbre_8_min  \\\n",
       "count  7574.000000  7574.000000  ...   7574.000000   7574.000000   \n",
       "mean      0.675471     0.010817  ...     95.653221    -63.703984   \n",
       "std       0.243473     0.013671  ...     26.859726     15.970244   \n",
       "min       0.000020     0.000000  ...     15.699000   -158.756000   \n",
       "25%       0.500138     0.003000  ...     76.498000    -73.050750   \n",
       "50%       0.718160     0.007000  ...     94.632500    -62.661500   \n",
       "75%       0.887396     0.014000  ...    112.708250    -52.982750   \n",
       "max       0.998492     0.541000  ...    214.819000     -2.382000   \n",
       "\n",
       "       timbre_8_max  timbre_9_min  timbre_9_max  timbre_10_min  timbre_10_max  \\\n",
       "count   7574.000000   7574.000000   7574.000000    7574.000000    7574.000000   \n",
       "mean      50.057489    -59.515016     68.028067     -87.340055      55.520722   \n",
       "std       14.463524     17.190527     20.381321      30.464274      23.549473   \n",
       "min      -25.955000   -149.507000      8.415000    -208.819000      -6.359000   \n",
       "25%       40.584500    -70.282500     53.037250    -105.130250      39.196000   \n",
       "50%       49.220000    -58.650000     65.935000     -83.074000      50.895000   \n",
       "75%       58.462000    -47.699750     81.267000     -64.518000      66.593000   \n",
       "max      144.985000      1.140000    161.518000     -10.640000     192.417000   \n",
       "\n",
       "       timbre_11_min  timbre_11_max        Top10  \n",
       "count    7574.000000    7574.000000  7574.000000  \n",
       "mean      -50.868457      47.490774     0.147742  \n",
       "std        11.701530      12.463966     0.354868  \n",
       "min      -145.599000       7.200000     0.000000  \n",
       "25%       -58.058000      38.975250     0.000000  \n",
       "50%       -50.892500      46.437500     0.000000  \n",
       "75%       -43.292250      55.030250     0.000000  \n",
       "max        -6.497000     110.272000     1.000000  \n",
       "\n",
       "[8 rows x 35 columns]"
      ]
     },
     "execution_count": 12,
     "metadata": {},
     "output_type": "execute_result"
    }
   ],
   "source": [
    "songs.describe()"
   ]
  },
  {
   "cell_type": "markdown",
   "metadata": {},
   "source": [
    "#### Looking at the content of the row with the minimum value for \"Time Signature\" :"
   ]
  },
  {
   "cell_type": "code",
   "execution_count": 13,
   "metadata": {},
   "outputs": [
    {
     "data": {
      "text/plain": [
       "year                                                      2010\n",
       "songtitle                   This Is the House That Doubt Built\n",
       "artistname                                   A Day to Remember\n",
       "songID                                      SOBGGAB12C5664F054\n",
       "artistID                                    AROBSHL1187B9AFB01\n",
       "timesignature                                                3\n",
       "timesignature_confidence                                 0.853\n",
       "loudness                                                -4.262\n",
       "tempo                                                   91.525\n",
       "tempo_confidence                                         0.953\n",
       "key                                                         11\n",
       "key_confidence                                           0.453\n",
       "energy                                                0.966656\n",
       "pitch                                                    0.024\n",
       "timbre_0_min                                             0.002\n",
       "timbre_0_max                                            57.342\n",
       "timbre_1_min                                            -6.496\n",
       "timbre_1_max                                           171.093\n",
       "timbre_2_min                                           -81.664\n",
       "timbre_2_max                                            95.117\n",
       "timbre_3_min                                          -285.049\n",
       "timbre_3_max                                           259.426\n",
       "timbre_4_min                                           -40.385\n",
       "timbre_4_max                                             73.63\n",
       "timbre_5_min                                          -104.683\n",
       "timbre_5_max                                           183.089\n",
       "timbre_6_min                                           -88.771\n",
       "timbre_6_max                                            73.549\n",
       "timbre_7_min                                           -71.127\n",
       "timbre_7_max                                            82.475\n",
       "timbre_8_min                                           -52.025\n",
       "timbre_8_max                                            39.116\n",
       "timbre_9_min                                           -35.368\n",
       "timbre_9_max                                            71.642\n",
       "timbre_10_min                                          -126.44\n",
       "timbre_10_max                                           18.658\n",
       "timbre_11_min                                           -44.77\n",
       "timbre_11_max                                           25.989\n",
       "Top10                                                        0\n",
       "Name: 0, dtype: object"
      ]
     },
     "execution_count": 13,
     "metadata": {},
     "output_type": "execute_result"
    }
   ],
   "source": [
    "songs.loc[songs.timesignature.min()]"
   ]
  },
  {
   "cell_type": "code",
   "execution_count": 5,
   "metadata": {},
   "outputs": [
    {
     "data": {
      "text/plain": [
       "<matplotlib.axes._subplots.AxesSubplot at 0x12487e50>"
      ]
     },
     "execution_count": 5,
     "metadata": {},
     "output_type": "execute_result"
    },
    {
     "data": {
      "image/png": "[encoded data removed]",
      "text/plain": [
       "<Figure size 432x288 with 1 Axes>"
      ]
     },
     "metadata": {},
     "output_type": "display_data"
    }
   ],
   "source": [
    "#Repartition of our main interest here : Top10 column & repartition between the 2 possible values :\n",
    "sns.countplot(songs.Top10)"
   ]
  },
  {
   "cell_type": "code",
   "execution_count": 4,
   "metadata": {},
   "outputs": [
    {
     "data": {
      "text/plain": [
       "Various artists    162\n",
       "Anal Cunt           49\n",
       "Various Artists     44\n",
       "Tori Amos           41\n",
       "Napalm Death        37\n",
       "Eels                37\n",
       "Rancid              31\n",
       "The Residents       31\n",
       "Faith Hill          29\n",
       "LL Cool J           29\n",
       "Name: artistname, dtype: int64"
      ]
     },
     "execution_count": 4,
     "metadata": {},
     "output_type": "execute_result"
    }
   ],
   "source": [
    "#Out of curiosity... what are the Top 10 artist represented in the dataset ? \n",
    "songs.artistname.value_counts().head(10)"
   ]
  },
  {
   "cell_type": "code",
   "execution_count": 16,
   "metadata": {},
   "outputs": [
    {
     "data": {
      "text/plain": [
       "(array([-5.,  0.,  5., 10., 15., 20., 25.]),\n",
       " <a list of 7 Text major ticklabel objects>)"
      ]
     },
     "execution_count": 16,
     "metadata": {},
     "output_type": "execute_result"
    },
    {
     "data": {
      "image/png": "[encoded data removed]",
      "text/plain": [
       "<Figure size 432x288 with 1 Axes>"
      ]
     },
     "metadata": {},
     "output_type": "display_data"
    }
   ],
   "source": [
    "#How timbre looks like plotted : \n",
    "songs.loc[1,'timbre_0_min' : 'timbre_11_max'].plot(color = 'r')\n",
    "plt.title('Timbre for Sticks & Bricks by A Day To Remember')\n",
    "plt.xticks(rotation=30)"
   ]
  },
  {
   "cell_type": "code",
   "execution_count": 367,
   "metadata": {},
   "outputs": [
    {
     "data": {
      "text/plain": [
       "Kelly Clarkson                  4\n",
       "50 Cent                         3\n",
       "Green Day                       2\n",
       "The Game                        2\n",
       "Bow Wow                         2\n",
       "Mariah Carey                    2\n",
       "Gwen Stefani                    2\n",
       "Destiny's Child                 2\n",
       "Akon                            1\n",
       "Mario                           1\n",
       "The Pussycat Dolls              1\n",
       "Young Jeezy                     1\n",
       "Fort Minor                      1\n",
       "Madonna                         1\n",
       "Weezer                          1\n",
       "T.I.                            1\n",
       "Nelly                           1\n",
       "Coldplay                        1\n",
       "Bo Bice                         1\n",
       "Missy Elliott                   1\n",
       "Bobby Valentino                 1\n",
       "D.H.T.                          1\n",
       "Snoop Dogg                      1\n",
       "T-Pain                          1\n",
       "Rob Thomas                      1\n",
       "Ciara                           1\n",
       "Will Smith                      1\n",
       "Ja Rule                         1\n",
       "Carrie Underwood                1\n",
       "Pretty Ricky                    1\n",
       "David Banner                    1\n",
       "The Black Eyed Peas             1\n",
       "Sean Paul                       1\n",
       "Rihanna                         1\n",
       "Eminem                          1\n",
       "Ludacris                        1\n",
       "Amerie                          1\n",
       "Frankie J                       1\n",
       "Gavin DeGraw                    1\n",
       "Usher And Alicia Keys           1\n",
       "Fat Joe                         1\n",
       "Aerosmith                       1\n",
       "Lil Jon & The East Side Boyz    1\n",
       "Lifehouse                       1\n",
       "Name: artistname, dtype: int64"
      ]
     },
     "execution_count": 367,
     "metadata": {},
     "output_type": "execute_result"
    }
   ],
   "source": [
    "songs.loc[(songs.year == 2005) & (songs.Top10 == 1)]['artistname'].value_counts()"
   ]
  },
  {
   "cell_type": "markdown",
   "metadata": {},
   "source": [
    "### Checking some distributions"
   ]
  },
  {
   "cell_type": "code",
   "execution_count": 18,
   "metadata": {},
   "outputs": [
    {
     "data": {
      "text/plain": [
       "<matplotlib.axes._subplots.AxesSubplot at 0x135a71f0>"
      ]
     },
     "execution_count": 18,
     "metadata": {},
     "output_type": "execute_result"
    },
    {
     "data": {
      "image/png": "[encoded data removed]",
      "text/plain": [
       "<Figure size 432x288 with 1 Axes>"
      ]
     },
     "metadata": {},
     "output_type": "display_data"
    }
   ],
   "source": [
    "sns.distplot(songs.loudness)"
   ]
  },
  {
   "cell_type": "code",
   "execution_count": 94,
   "metadata": {},
   "outputs": [
    {
     "data": {
      "text/plain": [
       "<matplotlib.axes._subplots.AxesSubplot at 0x16e77280>"
      ]
     },
     "execution_count": 94,
     "metadata": {},
     "output_type": "execute_result"
    },
    {
     "data": {
      "image/png": "[encoded data removed]",
      "text/plain": [
       "<Figure size 432x288 with 1 Axes>"
      ]
     },
     "metadata": {},
     "output_type": "display_data"
    }
   ],
   "source": [
    "sns.distplot(songs.tempo)"
   ]
  },
  {
   "cell_type": "code",
   "execution_count": 100,
   "metadata": {},
   "outputs": [
    {
     "data": {
      "text/plain": [
       "<matplotlib.axes._subplots.AxesSubplot at 0x284481a8>"
      ]
     },
     "execution_count": 100,
     "metadata": {},
     "output_type": "execute_result"
    },
    {
     "data": {
      "image/png": "[encoded data removed]",
      "text/plain": [
       "<Figure size 432x288 with 1 Axes>"
      ]
     },
     "metadata": {},
     "output_type": "display_data"
    }
   ],
   "source": [
    "sns.distplot(songs.key)"
   ]
  },
  {
   "cell_type": "code",
   "execution_count": 102,
   "metadata": {},
   "outputs": [
    {
     "data": {
      "text/plain": [
       "<matplotlib.axes._subplots.AxesSubplot at 0x29f12868>"
      ]
     },
     "execution_count": 102,
     "metadata": {},
     "output_type": "execute_result"
    },
    {
     "data": {
      "image/png": "[encoded data removed]",
      "text/plain": [
       "<Figure size 432x288 with 1 Axes>"
      ]
     },
     "metadata": {},
     "output_type": "display_data"
    }
   ],
   "source": [
    "sns.distplot(songs.pitch)"
   ]
  },
  {
   "cell_type": "code",
   "execution_count": 103,
   "metadata": {},
   "outputs": [
    {
     "data": {
      "text/plain": [
       "<matplotlib.axes._subplots.AxesSubplot at 0x29f96fa0>"
      ]
     },
     "execution_count": 103,
     "metadata": {},
     "output_type": "execute_result"
    },
    {
     "data": {
      "image/png": "[encoded data removed]",
      "text/plain": [
       "<Figure size 432x288 with 1 Axes>"
      ]
     },
     "metadata": {},
     "output_type": "display_data"
    }
   ],
   "source": [
    "sns.distplot(songs.energy)"
   ]
  },
  {
   "cell_type": "code",
   "execution_count": 393,
   "metadata": {},
   "outputs": [
    {
     "data": {
      "text/plain": [
       "<matplotlib.axes._subplots.AxesSubplot at 0x3e4c1cd0>"
      ]
     },
     "execution_count": 393,
     "metadata": {},
     "output_type": "execute_result"
    },
    {
     "data": {
      "image/png": "[encoded data removed]",
      "text/plain": [
       "<Figure size 432x288 with 1 Axes>"
      ]
     },
     "metadata": {},
     "output_type": "display_data"
    }
   ],
   "source": [
    "sns.distplot(df_songs.pitch)"
   ]
  },
  {
   "cell_type": "markdown",
   "metadata": {},
   "source": [
    "## Preprocess Data for Model\n",
    "- Removing columns having object type (Name of Artist, IDs, Song titles) \n",
    "- Selectionning the last 5 years\n",
    "- Removing the confidences columns\n",
    "- Evaluation of collinearity\n",
    "- Split of the data"
   ]
  },
  {
   "cell_type": "code",
   "execution_count": 125,
   "metadata": {},
   "outputs": [],
   "source": [
    "df_songs = songs.loc[songs.year >= 2005]"
   ]
  },
  {
   "cell_type": "code",
   "execution_count": 126,
   "metadata": {},
   "outputs": [
    {
     "data": {
      "text/plain": [
       "<matplotlib.axes._subplots.AxesSubplot at 0x1629ba60>"
      ]
     },
     "execution_count": 126,
     "metadata": {},
     "output_type": "execute_result"
    },
    {
     "data": {
      "image/png": "[encoded data removed]",
      "text/plain": [
       "<Figure size 432x288 with 1 Axes>"
      ]
     },
     "metadata": {},
     "output_type": "display_data"
    }
   ],
   "source": [
    "#Checking for outliers\n",
    "df_songs.boxplot(column = ['timesignature', 'tempo', 'key', 'energy', 'pitch'])"
   ]
  },
  {
   "cell_type": "code",
   "execution_count": 127,
   "metadata": {},
   "outputs": [
    {
     "data": {
      "text/html": [
       "<div>\n",
       "<style scoped>\n",
       "    .dataframe tbody tr th:only-of-type {\n",
       "        vertical-align: middle;\n",
       "    }\n",
       "\n",
       "    .dataframe tbody tr th {\n",
       "        vertical-align: top;\n",
       "    }\n",
       "\n",
       "    .dataframe thead th {\n",
       "        text-align: right;\n",
       "    }\n",
       "</style>\n",
       "<table border=\"1\" class=\"dataframe\">\n",
       "  <thead>\n",
       "    <tr style=\"text-align: right;\">\n",
       "      <th></th>\n",
       "      <th>year</th>\n",
       "      <th>timesignature</th>\n",
       "      <th>timesignature_confidence</th>\n",
       "      <th>loudness</th>\n",
       "      <th>tempo</th>\n",
       "      <th>tempo_confidence</th>\n",
       "      <th>key</th>\n",
       "      <th>key_confidence</th>\n",
       "      <th>energy</th>\n",
       "      <th>pitch</th>\n",
       "      <th>...</th>\n",
       "      <th>timbre_7_max</th>\n",
       "      <th>timbre_8_min</th>\n",
       "      <th>timbre_8_max</th>\n",
       "      <th>timbre_9_min</th>\n",
       "      <th>timbre_9_max</th>\n",
       "      <th>timbre_10_min</th>\n",
       "      <th>timbre_10_max</th>\n",
       "      <th>timbre_11_min</th>\n",
       "      <th>timbre_11_max</th>\n",
       "      <th>Top10</th>\n",
       "    </tr>\n",
       "  </thead>\n",
       "  <tbody>\n",
       "    <tr>\n",
       "      <th>count</th>\n",
       "      <td>2764.000000</td>\n",
       "      <td>2764.000000</td>\n",
       "      <td>2764.000000</td>\n",
       "      <td>2764.000000</td>\n",
       "      <td>2764.000000</td>\n",
       "      <td>2764.000000</td>\n",
       "      <td>2764.000000</td>\n",
       "      <td>2764.000000</td>\n",
       "      <td>2764.000000</td>\n",
       "      <td>2764.000000</td>\n",
       "      <td>...</td>\n",
       "      <td>2764.000000</td>\n",
       "      <td>2764.000000</td>\n",
       "      <td>2764.000000</td>\n",
       "      <td>2764.000000</td>\n",
       "      <td>2764.000000</td>\n",
       "      <td>2764.000000</td>\n",
       "      <td>2764.000000</td>\n",
       "      <td>2764.000000</td>\n",
       "      <td>2764.000000</td>\n",
       "      <td>2764.000000</td>\n",
       "    </tr>\n",
       "    <tr>\n",
       "      <th>mean</th>\n",
       "      <td>2007.447540</td>\n",
       "      <td>3.891823</td>\n",
       "      <td>0.862358</td>\n",
       "      <td>-7.695249</td>\n",
       "      <td>107.667509</td>\n",
       "      <td>0.613857</td>\n",
       "      <td>5.282923</td>\n",
       "      <td>0.429056</td>\n",
       "      <td>0.701008</td>\n",
       "      <td>0.010013</td>\n",
       "      <td>...</td>\n",
       "      <td>97.734668</td>\n",
       "      <td>-63.410612</td>\n",
       "      <td>49.927515</td>\n",
       "      <td>-60.536997</td>\n",
       "      <td>69.422452</td>\n",
       "      <td>-89.848010</td>\n",
       "      <td>55.272458</td>\n",
       "      <td>-51.124300</td>\n",
       "      <td>46.506391</td>\n",
       "      <td>0.128437</td>\n",
       "    </tr>\n",
       "    <tr>\n",
       "      <th>std</th>\n",
       "      <td>1.613976</td>\n",
       "      <td>0.543662</td>\n",
       "      <td>0.233225</td>\n",
       "      <td>4.154686</td>\n",
       "      <td>25.139873</td>\n",
       "      <td>0.305452</td>\n",
       "      <td>3.584599</td>\n",
       "      <td>0.269668</td>\n",
       "      <td>0.231839</td>\n",
       "      <td>0.014464</td>\n",
       "      <td>...</td>\n",
       "      <td>26.690665</td>\n",
       "      <td>15.650748</td>\n",
       "      <td>13.970115</td>\n",
       "      <td>17.193114</td>\n",
       "      <td>20.438494</td>\n",
       "      <td>30.425094</td>\n",
       "      <td>24.178167</td>\n",
       "      <td>11.056917</td>\n",
       "      <td>11.921179</td>\n",
       "      <td>0.334636</td>\n",
       "    </tr>\n",
       "    <tr>\n",
       "      <th>min</th>\n",
       "      <td>2005.000000</td>\n",
       "      <td>0.000000</td>\n",
       "      <td>0.000000</td>\n",
       "      <td>-42.451000</td>\n",
       "      <td>0.000000</td>\n",
       "      <td>0.000000</td>\n",
       "      <td>0.000000</td>\n",
       "      <td>0.000000</td>\n",
       "      <td>0.000095</td>\n",
       "      <td>0.000000</td>\n",
       "      <td>...</td>\n",
       "      <td>27.291000</td>\n",
       "      <td>-158.756000</td>\n",
       "      <td>-25.955000</td>\n",
       "      <td>-139.172000</td>\n",
       "      <td>14.192000</td>\n",
       "      <td>-202.256000</td>\n",
       "      <td>-6.359000</td>\n",
       "      <td>-121.731000</td>\n",
       "      <td>13.607000</td>\n",
       "      <td>0.000000</td>\n",
       "    </tr>\n",
       "    <tr>\n",
       "      <th>25%</th>\n",
       "      <td>2006.000000</td>\n",
       "      <td>4.000000</td>\n",
       "      <td>0.836000</td>\n",
       "      <td>-9.096750</td>\n",
       "      <td>87.274500</td>\n",
       "      <td>0.353000</td>\n",
       "      <td>2.000000</td>\n",
       "      <td>0.206750</td>\n",
       "      <td>0.541281</td>\n",
       "      <td>0.003000</td>\n",
       "      <td>...</td>\n",
       "      <td>79.247000</td>\n",
       "      <td>-71.970250</td>\n",
       "      <td>40.460750</td>\n",
       "      <td>-71.014500</td>\n",
       "      <td>54.278250</td>\n",
       "      <td>-107.846000</td>\n",
       "      <td>38.650500</td>\n",
       "      <td>-58.005500</td>\n",
       "      <td>38.539500</td>\n",
       "      <td>0.000000</td>\n",
       "    </tr>\n",
       "    <tr>\n",
       "      <th>50%</th>\n",
       "      <td>2007.000000</td>\n",
       "      <td>4.000000</td>\n",
       "      <td>0.979000</td>\n",
       "      <td>-6.478000</td>\n",
       "      <td>104.020000</td>\n",
       "      <td>0.687000</td>\n",
       "      <td>5.000000</td>\n",
       "      <td>0.448500</td>\n",
       "      <td>0.744224</td>\n",
       "      <td>0.007000</td>\n",
       "      <td>...</td>\n",
       "      <td>96.985000</td>\n",
       "      <td>-62.422500</td>\n",
       "      <td>48.934500</td>\n",
       "      <td>-59.749500</td>\n",
       "      <td>67.895500</td>\n",
       "      <td>-85.716500</td>\n",
       "      <td>50.506000</td>\n",
       "      <td>-51.219000</td>\n",
       "      <td>45.406500</td>\n",
       "      <td>0.000000</td>\n",
       "    </tr>\n",
       "    <tr>\n",
       "      <th>75%</th>\n",
       "      <td>2009.000000</td>\n",
       "      <td>4.000000</td>\n",
       "      <td>1.000000</td>\n",
       "      <td>-4.876000</td>\n",
       "      <td>125.988250</td>\n",
       "      <td>0.890250</td>\n",
       "      <td>8.000000</td>\n",
       "      <td>0.636000</td>\n",
       "      <td>0.899557</td>\n",
       "      <td>0.013000</td>\n",
       "      <td>...</td>\n",
       "      <td>114.451000</td>\n",
       "      <td>-53.078500</td>\n",
       "      <td>57.791250</td>\n",
       "      <td>-48.745250</td>\n",
       "      <td>82.605500</td>\n",
       "      <td>-67.442250</td>\n",
       "      <td>66.228500</td>\n",
       "      <td>-43.941750</td>\n",
       "      <td>53.448250</td>\n",
       "      <td>0.000000</td>\n",
       "    </tr>\n",
       "    <tr>\n",
       "      <th>max</th>\n",
       "      <td>2010.000000</td>\n",
       "      <td>7.000000</td>\n",
       "      <td>1.000000</td>\n",
       "      <td>1.305000</td>\n",
       "      <td>232.134000</td>\n",
       "      <td>1.000000</td>\n",
       "      <td>11.000000</td>\n",
       "      <td>1.000000</td>\n",
       "      <td>0.998492</td>\n",
       "      <td>0.541000</td>\n",
       "      <td>...</td>\n",
       "      <td>214.819000</td>\n",
       "      <td>-18.601000</td>\n",
       "      <td>141.449000</td>\n",
       "      <td>1.140000</td>\n",
       "      <td>159.600000</td>\n",
       "      <td>-18.905000</td>\n",
       "      <td>192.417000</td>\n",
       "      <td>-8.006000</td>\n",
       "      <td>107.282000</td>\n",
       "      <td>1.000000</td>\n",
       "    </tr>\n",
       "  </tbody>\n",
       "</table>\n",
       "<p>8 rows × 35 columns</p>\n",
       "</div>"
      ],
      "text/plain": [
       "              year  timesignature  timesignature_confidence     loudness  \\\n",
       "count  2764.000000    2764.000000               2764.000000  2764.000000   \n",
       "mean   2007.447540       3.891823                  0.862358    -7.695249   \n",
       "std       1.613976       0.543662                  0.233225     4.154686   \n",
       "min    2005.000000       0.000000                  0.000000   -42.451000   \n",
       "25%    2006.000000       4.000000                  0.836000    -9.096750   \n",
       "50%    2007.000000       4.000000                  0.979000    -6.478000   \n",
       "75%    2009.000000       4.000000                  1.000000    -4.876000   \n",
       "max    2010.000000       7.000000                  1.000000     1.305000   \n",
       "\n",
       "             tempo  tempo_confidence          key  key_confidence  \\\n",
       "count  2764.000000       2764.000000  2764.000000     2764.000000   \n",
       "mean    107.667509          0.613857     5.282923        0.429056   \n",
       "std      25.139873          0.305452     3.584599        0.269668   \n",
       "min       0.000000          0.000000     0.000000        0.000000   \n",
       "25%      87.274500          0.353000     2.000000        0.206750   \n",
       "50%     104.020000          0.687000     5.000000        0.448500   \n",
       "75%     125.988250          0.890250     8.000000        0.636000   \n",
       "max     232.134000          1.000000    11.000000        1.000000   \n",
       "\n",
       "            energy        pitch  ...  timbre_7_max  timbre_8_min  \\\n",
       "count  2764.000000  2764.000000  ...   2764.000000   2764.000000   \n",
       "mean      0.701008     0.010013  ...     97.734668    -63.410612   \n",
       "std       0.231839     0.014464  ...     26.690665     15.650748   \n",
       "min       0.000095     0.000000  ...     27.291000   -158.756000   \n",
       "25%       0.541281     0.003000  ...     79.247000    -71.970250   \n",
       "50%       0.744224     0.007000  ...     96.985000    -62.422500   \n",
       "75%       0.899557     0.013000  ...    114.451000    -53.078500   \n",
       "max       0.998492     0.541000  ...    214.819000    -18.601000   \n",
       "\n",
       "       timbre_8_max  timbre_9_min  timbre_9_max  timbre_10_min  timbre_10_max  \\\n",
       "count   2764.000000   2764.000000   2764.000000    2764.000000    2764.000000   \n",
       "mean      49.927515    -60.536997     69.422452     -89.848010      55.272458   \n",
       "std       13.970115     17.193114     20.438494      30.425094      24.178167   \n",
       "min      -25.955000   -139.172000     14.192000    -202.256000      -6.359000   \n",
       "25%       40.460750    -71.014500     54.278250    -107.846000      38.650500   \n",
       "50%       48.934500    -59.749500     67.895500     -85.716500      50.506000   \n",
       "75%       57.791250    -48.745250     82.605500     -67.442250      66.228500   \n",
       "max      141.449000      1.140000    159.600000     -18.905000     192.417000   \n",
       "\n",
       "       timbre_11_min  timbre_11_max        Top10  \n",
       "count    2764.000000    2764.000000  2764.000000  \n",
       "mean      -51.124300      46.506391     0.128437  \n",
       "std        11.056917      11.921179     0.334636  \n",
       "min      -121.731000      13.607000     0.000000  \n",
       "25%       -58.005500      38.539500     0.000000  \n",
       "50%       -51.219000      45.406500     0.000000  \n",
       "75%       -43.941750      53.448250     0.000000  \n",
       "max        -8.006000     107.282000     1.000000  \n",
       "\n",
       "[8 rows x 35 columns]"
      ]
     },
     "execution_count": 127,
     "metadata": {},
     "output_type": "execute_result"
    }
   ],
   "source": [
    "df_songs.describe()"
   ]
  },
  {
   "cell_type": "code",
   "execution_count": 128,
   "metadata": {},
   "outputs": [
    {
     "data": {
      "text/plain": [
       "Index(['year', 'songtitle', 'artistname', 'songID', 'artistID',\n",
       "       'timesignature', 'timesignature_confidence', 'loudness', 'tempo',\n",
       "       'tempo_confidence', 'key', 'key_confidence', 'energy', 'pitch',\n",
       "       'timbre_0_min', 'timbre_0_max', 'timbre_1_min', 'timbre_1_max',\n",
       "       'timbre_2_min', 'timbre_2_max', 'timbre_3_min', 'timbre_3_max',\n",
       "       'timbre_4_min', 'timbre_4_max', 'timbre_5_min', 'timbre_5_max',\n",
       "       'timbre_6_min', 'timbre_6_max', 'timbre_7_min', 'timbre_7_max',\n",
       "       'timbre_8_min', 'timbre_8_max', 'timbre_9_min', 'timbre_9_max',\n",
       "       'timbre_10_min', 'timbre_10_max', 'timbre_11_min', 'timbre_11_max',\n",
       "       'Top10'],\n",
       "      dtype='object')"
      ]
     },
     "execution_count": 128,
     "metadata": {},
     "output_type": "execute_result"
    }
   ],
   "source": [
    "df_songs.columns"
   ]
  },
  {
   "cell_type": "code",
   "execution_count": 10,
   "metadata": {},
   "outputs": [
    {
     "ename": "NameError",
     "evalue": "name 'df_songs' is not defined",
     "output_type": "error",
     "traceback": [
      "\u001b[1;31m---------------------------------------------------------------------------\u001b[0m",
      "\u001b[1;31mNameError\u001b[0m                                 Traceback (most recent call last)",
      "\u001b[1;32m<ipython-input-10-3b7d4bfd363c>\u001b[0m in \u001b[0;36m<module>\u001b[1;34m\u001b[0m\n\u001b[0;32m      2\u001b[0m columns_to_remove = ['year', 'songtitle', 'artistname', 'songID', 'artistID', 'timesignature_confidence', 'tempo_confidence',\n\u001b[0;32m      3\u001b[0m                     'key_confidence']\n\u001b[1;32m----> 4\u001b[1;33m \u001b[0mdf_songs\u001b[0m\u001b[1;33m.\u001b[0m\u001b[0mdrop\u001b[0m\u001b[1;33m(\u001b[0m\u001b[0mcolumns_to_remove\u001b[0m\u001b[1;33m,\u001b[0m \u001b[0maxis\u001b[0m \u001b[1;33m=\u001b[0m \u001b[1;36m1\u001b[0m\u001b[1;33m,\u001b[0m \u001b[0minplace\u001b[0m\u001b[1;33m=\u001b[0m\u001b[1;32mTrue\u001b[0m\u001b[1;33m)\u001b[0m\u001b[1;33m\u001b[0m\u001b[1;33m\u001b[0m\u001b[0m\n\u001b[0m",
      "\u001b[1;31mNameError\u001b[0m: name 'df_songs' is not defined"
     ]
    }
   ],
   "source": [
    "#We remove the columns we're not interesting in, which doesn't give useful informations for the model\n",
    "columns_to_remove = ['year', 'songtitle', 'artistname', 'songID', 'artistID', 'timesignature_confidence', 'tempo_confidence',\n",
    "                    'key_confidence']\n",
    "df_songs.drop(columns_to_remove, axis = 1, inplace=True)"
   ]
  },
  {
   "cell_type": "markdown",
   "metadata": {},
   "source": [
    "### Let's look at the correlations"
   ]
  },
  {
   "cell_type": "code",
   "execution_count": 24,
   "metadata": {},
   "outputs": [
    {
     "data": {
      "text/html": [
       "<div>\n",
       "<style scoped>\n",
       "    .dataframe tbody tr th:only-of-type {\n",
       "        vertical-align: middle;\n",
       "    }\n",
       "\n",
       "    .dataframe tbody tr th {\n",
       "        vertical-align: top;\n",
       "    }\n",
       "\n",
       "    .dataframe thead th {\n",
       "        text-align: right;\n",
       "    }\n",
       "</style>\n",
       "<table border=\"1\" class=\"dataframe\">\n",
       "  <thead>\n",
       "    <tr style=\"text-align: right;\">\n",
       "      <th></th>\n",
       "      <th>timesignature</th>\n",
       "      <th>loudness</th>\n",
       "      <th>tempo</th>\n",
       "      <th>key</th>\n",
       "      <th>energy</th>\n",
       "      <th>pitch</th>\n",
       "      <th>timbre_0_min</th>\n",
       "      <th>timbre_0_max</th>\n",
       "      <th>timbre_1_min</th>\n",
       "      <th>timbre_1_max</th>\n",
       "      <th>...</th>\n",
       "      <th>timbre_7_max</th>\n",
       "      <th>timbre_8_min</th>\n",
       "      <th>timbre_8_max</th>\n",
       "      <th>timbre_9_min</th>\n",
       "      <th>timbre_9_max</th>\n",
       "      <th>timbre_10_min</th>\n",
       "      <th>timbre_10_max</th>\n",
       "      <th>timbre_11_min</th>\n",
       "      <th>timbre_11_max</th>\n",
       "      <th>Top10</th>\n",
       "    </tr>\n",
       "  </thead>\n",
       "  <tbody>\n",
       "    <tr>\n",
       "      <th>timesignature</th>\n",
       "      <td>1.000000</td>\n",
       "      <td>0.113368</td>\n",
       "      <td>0.072325</td>\n",
       "      <td>0.029082</td>\n",
       "      <td>0.128271</td>\n",
       "      <td>-0.092110</td>\n",
       "      <td>0.007564</td>\n",
       "      <td>0.111233</td>\n",
       "      <td>-0.000516</td>\n",
       "      <td>0.027645</td>\n",
       "      <td>...</td>\n",
       "      <td>0.021773</td>\n",
       "      <td>-0.038842</td>\n",
       "      <td>-0.033356</td>\n",
       "      <td>-0.006702</td>\n",
       "      <td>0.035520</td>\n",
       "      <td>-0.013300</td>\n",
       "      <td>0.013351</td>\n",
       "      <td>-0.098116</td>\n",
       "      <td>-0.009965</td>\n",
       "      <td>0.042578</td>\n",
       "    </tr>\n",
       "    <tr>\n",
       "      <th>loudness</th>\n",
       "      <td>0.113368</td>\n",
       "      <td>1.000000</td>\n",
       "      <td>0.050673</td>\n",
       "      <td>-0.020263</td>\n",
       "      <td>0.766804</td>\n",
       "      <td>0.010349</td>\n",
       "      <td>-0.041830</td>\n",
       "      <td>0.918058</td>\n",
       "      <td>0.290533</td>\n",
       "      <td>0.040337</td>\n",
       "      <td>...</td>\n",
       "      <td>-0.034198</td>\n",
       "      <td>0.075041</td>\n",
       "      <td>-0.128819</td>\n",
       "      <td>0.130225</td>\n",
       "      <td>-0.051641</td>\n",
       "      <td>-0.166510</td>\n",
       "      <td>0.092458</td>\n",
       "      <td>-0.035145</td>\n",
       "      <td>-0.172367</td>\n",
       "      <td>-0.146339</td>\n",
       "    </tr>\n",
       "    <tr>\n",
       "      <th>tempo</th>\n",
       "      <td>0.072325</td>\n",
       "      <td>0.050673</td>\n",
       "      <td>1.000000</td>\n",
       "      <td>-0.000652</td>\n",
       "      <td>0.164904</td>\n",
       "      <td>0.006795</td>\n",
       "      <td>0.002524</td>\n",
       "      <td>0.013543</td>\n",
       "      <td>0.055854</td>\n",
       "      <td>-0.044230</td>\n",
       "      <td>...</td>\n",
       "      <td>-0.077419</td>\n",
       "      <td>0.092831</td>\n",
       "      <td>0.006239</td>\n",
       "      <td>0.068265</td>\n",
       "      <td>-0.025701</td>\n",
       "      <td>0.005357</td>\n",
       "      <td>-0.017003</td>\n",
       "      <td>0.006146</td>\n",
       "      <td>-0.029061</td>\n",
       "      <td>-0.013175</td>\n",
       "    </tr>\n",
       "    <tr>\n",
       "      <th>key</th>\n",
       "      <td>0.029082</td>\n",
       "      <td>-0.020263</td>\n",
       "      <td>-0.000652</td>\n",
       "      <td>1.000000</td>\n",
       "      <td>-0.004327</td>\n",
       "      <td>0.001564</td>\n",
       "      <td>-0.024558</td>\n",
       "      <td>-0.022365</td>\n",
       "      <td>-0.015301</td>\n",
       "      <td>0.010715</td>\n",
       "      <td>...</td>\n",
       "      <td>0.011960</td>\n",
       "      <td>-0.021500</td>\n",
       "      <td>-0.007077</td>\n",
       "      <td>-0.027417</td>\n",
       "      <td>0.010806</td>\n",
       "      <td>0.030227</td>\n",
       "      <td>0.026046</td>\n",
       "      <td>0.007071</td>\n",
       "      <td>0.019344</td>\n",
       "      <td>0.036678</td>\n",
       "    </tr>\n",
       "    <tr>\n",
       "      <th>energy</th>\n",
       "      <td>0.128271</td>\n",
       "      <td>0.766804</td>\n",
       "      <td>0.164904</td>\n",
       "      <td>-0.004327</td>\n",
       "      <td>1.000000</td>\n",
       "      <td>0.216797</td>\n",
       "      <td>0.064989</td>\n",
       "      <td>0.598343</td>\n",
       "      <td>0.481349</td>\n",
       "      <td>-0.011143</td>\n",
       "      <td>...</td>\n",
       "      <td>-0.199357</td>\n",
       "      <td>0.188947</td>\n",
       "      <td>-0.212434</td>\n",
       "      <td>0.325204</td>\n",
       "      <td>-0.142070</td>\n",
       "      <td>-0.078874</td>\n",
       "      <td>0.027291</td>\n",
       "      <td>0.029872</td>\n",
       "      <td>-0.251996</td>\n",
       "      <td>-0.116714</td>\n",
       "    </tr>\n",
       "    <tr>\n",
       "      <th>pitch</th>\n",
       "      <td>-0.092110</td>\n",
       "      <td>0.010349</td>\n",
       "      <td>0.006795</td>\n",
       "      <td>0.001564</td>\n",
       "      <td>0.216797</td>\n",
       "      <td>1.000000</td>\n",
       "      <td>0.024993</td>\n",
       "      <td>-0.120262</td>\n",
       "      <td>0.311117</td>\n",
       "      <td>-0.093715</td>\n",
       "      <td>...</td>\n",
       "      <td>-0.166791</td>\n",
       "      <td>0.200974</td>\n",
       "      <td>-0.247345</td>\n",
       "      <td>0.253157</td>\n",
       "      <td>-0.196867</td>\n",
       "      <td>0.057935</td>\n",
       "      <td>-0.087150</td>\n",
       "      <td>0.201732</td>\n",
       "      <td>-0.183772</td>\n",
       "      <td>-0.115194</td>\n",
       "    </tr>\n",
       "    <tr>\n",
       "      <th>timbre_0_min</th>\n",
       "      <td>0.007564</td>\n",
       "      <td>-0.041830</td>\n",
       "      <td>0.002524</td>\n",
       "      <td>-0.024558</td>\n",
       "      <td>0.064989</td>\n",
       "      <td>0.024993</td>\n",
       "      <td>1.000000</td>\n",
       "      <td>-0.109865</td>\n",
       "      <td>0.143054</td>\n",
       "      <td>-0.050483</td>\n",
       "      <td>...</td>\n",
       "      <td>-0.086934</td>\n",
       "      <td>0.062502</td>\n",
       "      <td>0.003492</td>\n",
       "      <td>0.089055</td>\n",
       "      <td>0.056880</td>\n",
       "      <td>-0.019769</td>\n",
       "      <td>-0.029331</td>\n",
       "      <td>-0.010532</td>\n",
       "      <td>-0.047785</td>\n",
       "      <td>0.193476</td>\n",
       "    </tr>\n",
       "    <tr>\n",
       "      <th>timbre_0_max</th>\n",
       "      <td>0.111233</td>\n",
       "      <td>0.918058</td>\n",
       "      <td>0.013543</td>\n",
       "      <td>-0.022365</td>\n",
       "      <td>0.598343</td>\n",
       "      <td>-0.120262</td>\n",
       "      <td>-0.109865</td>\n",
       "      <td>1.000000</td>\n",
       "      <td>0.119836</td>\n",
       "      <td>0.034129</td>\n",
       "      <td>...</td>\n",
       "      <td>-0.016033</td>\n",
       "      <td>0.016021</td>\n",
       "      <td>-0.099391</td>\n",
       "      <td>0.056089</td>\n",
       "      <td>-0.077255</td>\n",
       "      <td>-0.129977</td>\n",
       "      <td>0.060999</td>\n",
       "      <td>-0.020153</td>\n",
       "      <td>-0.101008</td>\n",
       "      <td>-0.203644</td>\n",
       "    </tr>\n",
       "    <tr>\n",
       "      <th>timbre_1_min</th>\n",
       "      <td>-0.000516</td>\n",
       "      <td>0.290533</td>\n",
       "      <td>0.055854</td>\n",
       "      <td>-0.015301</td>\n",
       "      <td>0.481349</td>\n",
       "      <td>0.311117</td>\n",
       "      <td>0.143054</td>\n",
       "      <td>0.119836</td>\n",
       "      <td>1.000000</td>\n",
       "      <td>0.046780</td>\n",
       "      <td>...</td>\n",
       "      <td>-0.285300</td>\n",
       "      <td>0.229677</td>\n",
       "      <td>-0.230310</td>\n",
       "      <td>0.432101</td>\n",
       "      <td>-0.146556</td>\n",
       "      <td>-0.061679</td>\n",
       "      <td>-0.028045</td>\n",
       "      <td>0.070929</td>\n",
       "      <td>-0.219309</td>\n",
       "      <td>0.029317</td>\n",
       "    </tr>\n",
       "    <tr>\n",
       "      <th>timbre_1_max</th>\n",
       "      <td>0.027645</td>\n",
       "      <td>0.040337</td>\n",
       "      <td>-0.044230</td>\n",
       "      <td>0.010715</td>\n",
       "      <td>-0.011143</td>\n",
       "      <td>-0.093715</td>\n",
       "      <td>-0.050483</td>\n",
       "      <td>0.034129</td>\n",
       "      <td>0.046780</td>\n",
       "      <td>1.000000</td>\n",
       "      <td>...</td>\n",
       "      <td>0.197941</td>\n",
       "      <td>-0.312627</td>\n",
       "      <td>0.176279</td>\n",
       "      <td>-0.217678</td>\n",
       "      <td>0.325141</td>\n",
       "      <td>-0.206753</td>\n",
       "      <td>0.138720</td>\n",
       "      <td>-0.199106</td>\n",
       "      <td>0.184254</td>\n",
       "      <td>0.112975</td>\n",
       "    </tr>\n",
       "    <tr>\n",
       "      <th>timbre_2_min</th>\n",
       "      <td>-0.054148</td>\n",
       "      <td>0.023586</td>\n",
       "      <td>0.039240</td>\n",
       "      <td>-0.035295</td>\n",
       "      <td>0.184435</td>\n",
       "      <td>0.292621</td>\n",
       "      <td>0.101020</td>\n",
       "      <td>-0.027227</td>\n",
       "      <td>0.304689</td>\n",
       "      <td>-0.203620</td>\n",
       "      <td>...</td>\n",
       "      <td>-0.301331</td>\n",
       "      <td>0.217194</td>\n",
       "      <td>-0.230542</td>\n",
       "      <td>0.428609</td>\n",
       "      <td>-0.293141</td>\n",
       "      <td>0.312293</td>\n",
       "      <td>-0.233073</td>\n",
       "      <td>0.187481</td>\n",
       "      <td>-0.168172</td>\n",
       "      <td>-0.076145</td>\n",
       "    </tr>\n",
       "    <tr>\n",
       "      <th>timbre_2_max</th>\n",
       "      <td>0.041866</td>\n",
       "      <td>0.008681</td>\n",
       "      <td>-0.017952</td>\n",
       "      <td>0.018500</td>\n",
       "      <td>-0.012183</td>\n",
       "      <td>-0.082393</td>\n",
       "      <td>0.094227</td>\n",
       "      <td>0.006870</td>\n",
       "      <td>-0.033385</td>\n",
       "      <td>0.299377</td>\n",
       "      <td>...</td>\n",
       "      <td>0.103039</td>\n",
       "      <td>-0.275654</td>\n",
       "      <td>0.145664</td>\n",
       "      <td>-0.122341</td>\n",
       "      <td>0.163684</td>\n",
       "      <td>-0.101466</td>\n",
       "      <td>0.079459</td>\n",
       "      <td>-0.254243</td>\n",
       "      <td>0.197197</td>\n",
       "      <td>0.113495</td>\n",
       "    </tr>\n",
       "    <tr>\n",
       "      <th>timbre_3_min</th>\n",
       "      <td>0.020519</td>\n",
       "      <td>-0.021203</td>\n",
       "      <td>0.040117</td>\n",
       "      <td>-0.015105</td>\n",
       "      <td>0.136008</td>\n",
       "      <td>0.128663</td>\n",
       "      <td>-0.041866</td>\n",
       "      <td>-0.050880</td>\n",
       "      <td>0.105429</td>\n",
       "      <td>-0.056329</td>\n",
       "      <td>...</td>\n",
       "      <td>-0.157220</td>\n",
       "      <td>0.079916</td>\n",
       "      <td>-0.105882</td>\n",
       "      <td>0.171161</td>\n",
       "      <td>-0.298669</td>\n",
       "      <td>0.223035</td>\n",
       "      <td>-0.061557</td>\n",
       "      <td>0.043701</td>\n",
       "      <td>-0.078129</td>\n",
       "      <td>0.000008</td>\n",
       "    </tr>\n",
       "    <tr>\n",
       "      <th>timbre_3_max</th>\n",
       "      <td>-0.006112</td>\n",
       "      <td>0.194543</td>\n",
       "      <td>-0.011399</td>\n",
       "      <td>-0.030974</td>\n",
       "      <td>0.133338</td>\n",
       "      <td>-0.003337</td>\n",
       "      <td>-0.054547</td>\n",
       "      <td>0.135389</td>\n",
       "      <td>0.112111</td>\n",
       "      <td>0.145059</td>\n",
       "      <td>...</td>\n",
       "      <td>0.289568</td>\n",
       "      <td>-0.040019</td>\n",
       "      <td>0.041059</td>\n",
       "      <td>-0.275151</td>\n",
       "      <td>0.147548</td>\n",
       "      <td>-0.473532</td>\n",
       "      <td>0.192003</td>\n",
       "      <td>-0.057998</td>\n",
       "      <td>0.005182</td>\n",
       "      <td>-0.010825</td>\n",
       "    </tr>\n",
       "    <tr>\n",
       "      <th>timbre_4_min</th>\n",
       "      <td>-0.038843</td>\n",
       "      <td>-0.006250</td>\n",
       "      <td>-0.040541</td>\n",
       "      <td>-0.010739</td>\n",
       "      <td>-0.030423</td>\n",
       "      <td>0.158573</td>\n",
       "      <td>0.030996</td>\n",
       "      <td>0.017710</td>\n",
       "      <td>0.024550</td>\n",
       "      <td>-0.171819</td>\n",
       "      <td>...</td>\n",
       "      <td>-0.065767</td>\n",
       "      <td>0.221361</td>\n",
       "      <td>-0.156003</td>\n",
       "      <td>0.101249</td>\n",
       "      <td>-0.117595</td>\n",
       "      <td>0.126962</td>\n",
       "      <td>-0.111464</td>\n",
       "      <td>0.235801</td>\n",
       "      <td>-0.144549</td>\n",
       "      <td>-0.010625</td>\n",
       "    </tr>\n",
       "    <tr>\n",
       "      <th>timbre_4_max</th>\n",
       "      <td>0.016814</td>\n",
       "      <td>-0.123510</td>\n",
       "      <td>-0.086922</td>\n",
       "      <td>0.012299</td>\n",
       "      <td>-0.288971</td>\n",
       "      <td>-0.236520</td>\n",
       "      <td>-0.028624</td>\n",
       "      <td>-0.040120</td>\n",
       "      <td>-0.334042</td>\n",
       "      <td>0.307803</td>\n",
       "      <td>...</td>\n",
       "      <td>0.233122</td>\n",
       "      <td>-0.388304</td>\n",
       "      <td>0.247136</td>\n",
       "      <td>-0.363935</td>\n",
       "      <td>0.288845</td>\n",
       "      <td>-0.071832</td>\n",
       "      <td>0.093650</td>\n",
       "      <td>-0.283515</td>\n",
       "      <td>0.260389</td>\n",
       "      <td>0.182908</td>\n",
       "    </tr>\n",
       "    <tr>\n",
       "      <th>timbre_5_min</th>\n",
       "      <td>-0.039855</td>\n",
       "      <td>-0.048845</td>\n",
       "      <td>0.000189</td>\n",
       "      <td>-0.016656</td>\n",
       "      <td>0.002259</td>\n",
       "      <td>0.180381</td>\n",
       "      <td>0.004182</td>\n",
       "      <td>-0.030236</td>\n",
       "      <td>0.142671</td>\n",
       "      <td>-0.197162</td>\n",
       "      <td>...</td>\n",
       "      <td>-0.218525</td>\n",
       "      <td>0.192456</td>\n",
       "      <td>-0.184784</td>\n",
       "      <td>0.396992</td>\n",
       "      <td>-0.210286</td>\n",
       "      <td>0.132032</td>\n",
       "      <td>-0.179532</td>\n",
       "      <td>0.192078</td>\n",
       "      <td>-0.124626</td>\n",
       "      <td>-0.119952</td>\n",
       "    </tr>\n",
       "    <tr>\n",
       "      <th>timbre_5_max</th>\n",
       "      <td>0.028971</td>\n",
       "      <td>0.024678</td>\n",
       "      <td>0.004745</td>\n",
       "      <td>0.002204</td>\n",
       "      <td>-0.061273</td>\n",
       "      <td>-0.092751</td>\n",
       "      <td>0.044043</td>\n",
       "      <td>0.000281</td>\n",
       "      <td>-0.025986</td>\n",
       "      <td>0.146531</td>\n",
       "      <td>...</td>\n",
       "      <td>0.166220</td>\n",
       "      <td>-0.059168</td>\n",
       "      <td>0.076309</td>\n",
       "      <td>-0.194800</td>\n",
       "      <td>0.392160</td>\n",
       "      <td>-0.290345</td>\n",
       "      <td>0.316441</td>\n",
       "      <td>-0.108298</td>\n",
       "      <td>0.068319</td>\n",
       "      <td>0.097719</td>\n",
       "    </tr>\n",
       "    <tr>\n",
       "      <th>timbre_6_min</th>\n",
       "      <td>-0.025176</td>\n",
       "      <td>0.142118</td>\n",
       "      <td>0.062552</td>\n",
       "      <td>-0.022989</td>\n",
       "      <td>0.295523</td>\n",
       "      <td>0.247074</td>\n",
       "      <td>0.038018</td>\n",
       "      <td>0.089983</td>\n",
       "      <td>0.194804</td>\n",
       "      <td>-0.315593</td>\n",
       "      <td>...</td>\n",
       "      <td>-0.285185</td>\n",
       "      <td>0.257277</td>\n",
       "      <td>-0.316982</td>\n",
       "      <td>0.342937</td>\n",
       "      <td>-0.333206</td>\n",
       "      <td>0.198149</td>\n",
       "      <td>-0.162245</td>\n",
       "      <td>0.255960</td>\n",
       "      <td>-0.292390</td>\n",
       "      <td>-0.211092</td>\n",
       "    </tr>\n",
       "    <tr>\n",
       "      <th>timbre_6_max</th>\n",
       "      <td>0.052812</td>\n",
       "      <td>-0.035342</td>\n",
       "      <td>-0.024833</td>\n",
       "      <td>0.024326</td>\n",
       "      <td>-0.090578</td>\n",
       "      <td>-0.200630</td>\n",
       "      <td>0.038175</td>\n",
       "      <td>-0.028095</td>\n",
       "      <td>-0.174839</td>\n",
       "      <td>0.175010</td>\n",
       "      <td>...</td>\n",
       "      <td>0.188554</td>\n",
       "      <td>-0.312898</td>\n",
       "      <td>0.210299</td>\n",
       "      <td>-0.219801</td>\n",
       "      <td>0.237126</td>\n",
       "      <td>-0.106138</td>\n",
       "      <td>0.110046</td>\n",
       "      <td>-0.269194</td>\n",
       "      <td>0.267453</td>\n",
       "      <td>0.138107</td>\n",
       "    </tr>\n",
       "    <tr>\n",
       "      <th>timbre_7_min</th>\n",
       "      <td>-0.024786</td>\n",
       "      <td>0.153357</td>\n",
       "      <td>0.085466</td>\n",
       "      <td>0.006321</td>\n",
       "      <td>0.343403</td>\n",
       "      <td>0.292272</td>\n",
       "      <td>0.039748</td>\n",
       "      <td>0.089245</td>\n",
       "      <td>0.348367</td>\n",
       "      <td>-0.323592</td>\n",
       "      <td>...</td>\n",
       "      <td>-0.397078</td>\n",
       "      <td>0.343670</td>\n",
       "      <td>-0.266103</td>\n",
       "      <td>0.471149</td>\n",
       "      <td>-0.461457</td>\n",
       "      <td>0.171246</td>\n",
       "      <td>-0.174024</td>\n",
       "      <td>0.223469</td>\n",
       "      <td>-0.218921</td>\n",
       "      <td>-0.163487</td>\n",
       "    </tr>\n",
       "    <tr>\n",
       "      <th>timbre_7_max</th>\n",
       "      <td>0.021773</td>\n",
       "      <td>-0.034198</td>\n",
       "      <td>-0.077419</td>\n",
       "      <td>0.011960</td>\n",
       "      <td>-0.199357</td>\n",
       "      <td>-0.166791</td>\n",
       "      <td>-0.086934</td>\n",
       "      <td>-0.016033</td>\n",
       "      <td>-0.285300</td>\n",
       "      <td>0.197941</td>\n",
       "      <td>...</td>\n",
       "      <td>1.000000</td>\n",
       "      <td>-0.220447</td>\n",
       "      <td>0.133111</td>\n",
       "      <td>-0.432835</td>\n",
       "      <td>0.326697</td>\n",
       "      <td>-0.196132</td>\n",
       "      <td>0.188107</td>\n",
       "      <td>-0.107400</td>\n",
       "      <td>0.118118</td>\n",
       "      <td>0.047684</td>\n",
       "    </tr>\n",
       "    <tr>\n",
       "      <th>timbre_8_min</th>\n",
       "      <td>-0.038842</td>\n",
       "      <td>0.075041</td>\n",
       "      <td>0.092831</td>\n",
       "      <td>-0.021500</td>\n",
       "      <td>0.188947</td>\n",
       "      <td>0.200974</td>\n",
       "      <td>0.062502</td>\n",
       "      <td>0.016021</td>\n",
       "      <td>0.229677</td>\n",
       "      <td>-0.312627</td>\n",
       "      <td>...</td>\n",
       "      <td>-0.220447</td>\n",
       "      <td>1.000000</td>\n",
       "      <td>-0.070439</td>\n",
       "      <td>0.340924</td>\n",
       "      <td>-0.199207</td>\n",
       "      <td>0.098768</td>\n",
       "      <td>-0.086547</td>\n",
       "      <td>0.266219</td>\n",
       "      <td>-0.279116</td>\n",
       "      <td>-0.090043</td>\n",
       "    </tr>\n",
       "    <tr>\n",
       "      <th>timbre_8_max</th>\n",
       "      <td>-0.033356</td>\n",
       "      <td>-0.128819</td>\n",
       "      <td>0.006239</td>\n",
       "      <td>-0.007077</td>\n",
       "      <td>-0.212434</td>\n",
       "      <td>-0.247345</td>\n",
       "      <td>0.003492</td>\n",
       "      <td>-0.099391</td>\n",
       "      <td>-0.230310</td>\n",
       "      <td>0.176279</td>\n",
       "      <td>...</td>\n",
       "      <td>0.133111</td>\n",
       "      <td>-0.070439</td>\n",
       "      <td>1.000000</td>\n",
       "      <td>-0.242168</td>\n",
       "      <td>0.244961</td>\n",
       "      <td>-0.038089</td>\n",
       "      <td>0.117199</td>\n",
       "      <td>-0.206720</td>\n",
       "      <td>0.328841</td>\n",
       "      <td>0.125266</td>\n",
       "    </tr>\n",
       "    <tr>\n",
       "      <th>timbre_9_min</th>\n",
       "      <td>-0.006702</td>\n",
       "      <td>0.130225</td>\n",
       "      <td>0.068265</td>\n",
       "      <td>-0.027417</td>\n",
       "      <td>0.325204</td>\n",
       "      <td>0.253157</td>\n",
       "      <td>0.089055</td>\n",
       "      <td>0.056089</td>\n",
       "      <td>0.432101</td>\n",
       "      <td>-0.217678</td>\n",
       "      <td>...</td>\n",
       "      <td>-0.432835</td>\n",
       "      <td>0.340924</td>\n",
       "      <td>-0.242168</td>\n",
       "      <td>1.000000</td>\n",
       "      <td>-0.300696</td>\n",
       "      <td>0.126997</td>\n",
       "      <td>-0.182796</td>\n",
       "      <td>0.174389</td>\n",
       "      <td>-0.245174</td>\n",
       "      <td>-0.082306</td>\n",
       "    </tr>\n",
       "    <tr>\n",
       "      <th>timbre_9_max</th>\n",
       "      <td>0.035520</td>\n",
       "      <td>-0.051641</td>\n",
       "      <td>-0.025701</td>\n",
       "      <td>0.010806</td>\n",
       "      <td>-0.142070</td>\n",
       "      <td>-0.196867</td>\n",
       "      <td>0.056880</td>\n",
       "      <td>-0.077255</td>\n",
       "      <td>-0.146556</td>\n",
       "      <td>0.325141</td>\n",
       "      <td>...</td>\n",
       "      <td>0.326697</td>\n",
       "      <td>-0.199207</td>\n",
       "      <td>0.244961</td>\n",
       "      <td>-0.300696</td>\n",
       "      <td>1.000000</td>\n",
       "      <td>-0.239082</td>\n",
       "      <td>0.275295</td>\n",
       "      <td>-0.209103</td>\n",
       "      <td>0.159750</td>\n",
       "      <td>0.181558</td>\n",
       "    </tr>\n",
       "    <tr>\n",
       "      <th>timbre_10_min</th>\n",
       "      <td>-0.013300</td>\n",
       "      <td>-0.166510</td>\n",
       "      <td>0.005357</td>\n",
       "      <td>0.030227</td>\n",
       "      <td>-0.078874</td>\n",
       "      <td>0.057935</td>\n",
       "      <td>-0.019769</td>\n",
       "      <td>-0.129977</td>\n",
       "      <td>-0.061679</td>\n",
       "      <td>-0.206753</td>\n",
       "      <td>...</td>\n",
       "      <td>-0.196132</td>\n",
       "      <td>0.098768</td>\n",
       "      <td>-0.038089</td>\n",
       "      <td>0.126997</td>\n",
       "      <td>-0.239082</td>\n",
       "      <td>1.000000</td>\n",
       "      <td>-0.236652</td>\n",
       "      <td>0.105409</td>\n",
       "      <td>-0.028109</td>\n",
       "      <td>-0.075747</td>\n",
       "    </tr>\n",
       "    <tr>\n",
       "      <th>timbre_10_max</th>\n",
       "      <td>0.013351</td>\n",
       "      <td>0.092458</td>\n",
       "      <td>-0.017003</td>\n",
       "      <td>0.026046</td>\n",
       "      <td>0.027291</td>\n",
       "      <td>-0.087150</td>\n",
       "      <td>-0.029331</td>\n",
       "      <td>0.060999</td>\n",
       "      <td>-0.028045</td>\n",
       "      <td>0.138720</td>\n",
       "      <td>...</td>\n",
       "      <td>0.188107</td>\n",
       "      <td>-0.086547</td>\n",
       "      <td>0.117199</td>\n",
       "      <td>-0.182796</td>\n",
       "      <td>0.275295</td>\n",
       "      <td>-0.236652</td>\n",
       "      <td>1.000000</td>\n",
       "      <td>-0.097849</td>\n",
       "      <td>0.102488</td>\n",
       "      <td>0.059424</td>\n",
       "    </tr>\n",
       "    <tr>\n",
       "      <th>timbre_11_min</th>\n",
       "      <td>-0.098116</td>\n",
       "      <td>-0.035145</td>\n",
       "      <td>0.006146</td>\n",
       "      <td>0.007071</td>\n",
       "      <td>0.029872</td>\n",
       "      <td>0.201732</td>\n",
       "      <td>-0.010532</td>\n",
       "      <td>-0.020153</td>\n",
       "      <td>0.070929</td>\n",
       "      <td>-0.199106</td>\n",
       "      <td>...</td>\n",
       "      <td>-0.107400</td>\n",
       "      <td>0.266219</td>\n",
       "      <td>-0.206720</td>\n",
       "      <td>0.174389</td>\n",
       "      <td>-0.209103</td>\n",
       "      <td>0.105409</td>\n",
       "      <td>-0.097849</td>\n",
       "      <td>1.000000</td>\n",
       "      <td>-0.060605</td>\n",
       "      <td>-0.181119</td>\n",
       "    </tr>\n",
       "    <tr>\n",
       "      <th>timbre_11_max</th>\n",
       "      <td>-0.009965</td>\n",
       "      <td>-0.172367</td>\n",
       "      <td>-0.029061</td>\n",
       "      <td>0.019344</td>\n",
       "      <td>-0.251996</td>\n",
       "      <td>-0.183772</td>\n",
       "      <td>-0.047785</td>\n",
       "      <td>-0.101008</td>\n",
       "      <td>-0.219309</td>\n",
       "      <td>0.184254</td>\n",
       "      <td>...</td>\n",
       "      <td>0.118118</td>\n",
       "      <td>-0.279116</td>\n",
       "      <td>0.328841</td>\n",
       "      <td>-0.245174</td>\n",
       "      <td>0.159750</td>\n",
       "      <td>-0.028109</td>\n",
       "      <td>0.102488</td>\n",
       "      <td>-0.060605</td>\n",
       "      <td>1.000000</td>\n",
       "      <td>0.105562</td>\n",
       "    </tr>\n",
       "    <tr>\n",
       "      <th>Top10</th>\n",
       "      <td>0.042578</td>\n",
       "      <td>-0.146339</td>\n",
       "      <td>-0.013175</td>\n",
       "      <td>0.036678</td>\n",
       "      <td>-0.116714</td>\n",
       "      <td>-0.115194</td>\n",
       "      <td>0.193476</td>\n",
       "      <td>-0.203644</td>\n",
       "      <td>0.029317</td>\n",
       "      <td>0.112975</td>\n",
       "      <td>...</td>\n",
       "      <td>0.047684</td>\n",
       "      <td>-0.090043</td>\n",
       "      <td>0.125266</td>\n",
       "      <td>-0.082306</td>\n",
       "      <td>0.181558</td>\n",
       "      <td>-0.075747</td>\n",
       "      <td>0.059424</td>\n",
       "      <td>-0.181119</td>\n",
       "      <td>0.105562</td>\n",
       "      <td>1.000000</td>\n",
       "    </tr>\n",
       "  </tbody>\n",
       "</table>\n",
       "<p>31 rows × 31 columns</p>\n",
       "</div>"
      ],
      "text/plain": [
       "               timesignature  loudness     tempo       key    energy  \\\n",
       "timesignature       1.000000  0.113368  0.072325  0.029082  0.128271   \n",
       "loudness            0.113368  1.000000  0.050673 -0.020263  0.766804   \n",
       "tempo               0.072325  0.050673  1.000000 -0.000652  0.164904   \n",
       "key                 0.029082 -0.020263 -0.000652  1.000000 -0.004327   \n",
       "energy              0.128271  0.766804  0.164904 -0.004327  1.000000   \n",
       "pitch              -0.092110  0.010349  0.006795  0.001564  0.216797   \n",
       "timbre_0_min        0.007564 -0.041830  0.002524 -0.024558  0.064989   \n",
       "timbre_0_max        0.111233  0.918058  0.013543 -0.022365  0.598343   \n",
       "timbre_1_min       -0.000516  0.290533  0.055854 -0.015301  0.481349   \n",
       "timbre_1_max        0.027645  0.040337 -0.044230  0.010715 -0.011143   \n",
       "timbre_2_min       -0.054148  0.023586  0.039240 -0.035295  0.184435   \n",
       "timbre_2_max        0.041866  0.008681 -0.017952  0.018500 -0.012183   \n",
       "timbre_3_min        0.020519 -0.021203  0.040117 -0.015105  0.136008   \n",
       "timbre_3_max       -0.006112  0.194543 -0.011399 -0.030974  0.133338   \n",
       "timbre_4_min       -0.038843 -0.006250 -0.040541 -0.010739 -0.030423   \n",
       "timbre_4_max        0.016814 -0.123510 -0.086922  0.012299 -0.288971   \n",
       "timbre_5_min       -0.039855 -0.048845  0.000189 -0.016656  0.002259   \n",
       "timbre_5_max        0.028971  0.024678  0.004745  0.002204 -0.061273   \n",
       "timbre_6_min       -0.025176  0.142118  0.062552 -0.022989  0.295523   \n",
       "timbre_6_max        0.052812 -0.035342 -0.024833  0.024326 -0.090578   \n",
       "timbre_7_min       -0.024786  0.153357  0.085466  0.006321  0.343403   \n",
       "timbre_7_max        0.021773 -0.034198 -0.077419  0.011960 -0.199357   \n",
       "timbre_8_min       -0.038842  0.075041  0.092831 -0.021500  0.188947   \n",
       "timbre_8_max       -0.033356 -0.128819  0.006239 -0.007077 -0.212434   \n",
       "timbre_9_min       -0.006702  0.130225  0.068265 -0.027417  0.325204   \n",
       "timbre_9_max        0.035520 -0.051641 -0.025701  0.010806 -0.142070   \n",
       "timbre_10_min      -0.013300 -0.166510  0.005357  0.030227 -0.078874   \n",
       "timbre_10_max       0.013351  0.092458 -0.017003  0.026046  0.027291   \n",
       "timbre_11_min      -0.098116 -0.035145  0.006146  0.007071  0.029872   \n",
       "timbre_11_max      -0.009965 -0.172367 -0.029061  0.019344 -0.251996   \n",
       "Top10               0.042578 -0.146339 -0.013175  0.036678 -0.116714   \n",
       "\n",
       "                  pitch  timbre_0_min  timbre_0_max  timbre_1_min  \\\n",
       "timesignature -0.092110      0.007564      0.111233     -0.000516   \n",
       "loudness       0.010349     -0.041830      0.918058      0.290533   \n",
       "tempo          0.006795      0.002524      0.013543      0.055854   \n",
       "key            0.001564     -0.024558     -0.022365     -0.015301   \n",
       "energy         0.216797      0.064989      0.598343      0.481349   \n",
       "pitch          1.000000      0.024993     -0.120262      0.311117   \n",
       "timbre_0_min   0.024993      1.000000     -0.109865      0.143054   \n",
       "timbre_0_max  -0.120262     -0.109865      1.000000      0.119836   \n",
       "timbre_1_min   0.311117      0.143054      0.119836      1.000000   \n",
       "timbre_1_max  -0.093715     -0.050483      0.034129      0.046780   \n",
       "timbre_2_min   0.292621      0.101020     -0.027227      0.304689   \n",
       "timbre_2_max  -0.082393      0.094227      0.006870     -0.033385   \n",
       "timbre_3_min   0.128663     -0.041866     -0.050880      0.105429   \n",
       "timbre_3_max  -0.003337     -0.054547      0.135389      0.112111   \n",
       "timbre_4_min   0.158573      0.030996      0.017710      0.024550   \n",
       "timbre_4_max  -0.236520     -0.028624     -0.040120     -0.334042   \n",
       "timbre_5_min   0.180381      0.004182     -0.030236      0.142671   \n",
       "timbre_5_max  -0.092751      0.044043      0.000281     -0.025986   \n",
       "timbre_6_min   0.247074      0.038018      0.089983      0.194804   \n",
       "timbre_6_max  -0.200630      0.038175     -0.028095     -0.174839   \n",
       "timbre_7_min   0.292272      0.039748      0.089245      0.348367   \n",
       "timbre_7_max  -0.166791     -0.086934     -0.016033     -0.285300   \n",
       "timbre_8_min   0.200974      0.062502      0.016021      0.229677   \n",
       "timbre_8_max  -0.247345      0.003492     -0.099391     -0.230310   \n",
       "timbre_9_min   0.253157      0.089055      0.056089      0.432101   \n",
       "timbre_9_max  -0.196867      0.056880     -0.077255     -0.146556   \n",
       "timbre_10_min  0.057935     -0.019769     -0.129977     -0.061679   \n",
       "timbre_10_max -0.087150     -0.029331      0.060999     -0.028045   \n",
       "timbre_11_min  0.201732     -0.010532     -0.020153      0.070929   \n",
       "timbre_11_max -0.183772     -0.047785     -0.101008     -0.219309   \n",
       "Top10         -0.115194      0.193476     -0.203644      0.029317   \n",
       "\n",
       "               timbre_1_max  ...  timbre_7_max  timbre_8_min  timbre_8_max  \\\n",
       "timesignature      0.027645  ...      0.021773     -0.038842     -0.033356   \n",
       "loudness           0.040337  ...     -0.034198      0.075041     -0.128819   \n",
       "tempo             -0.044230  ...     -0.077419      0.092831      0.006239   \n",
       "key                0.010715  ...      0.011960     -0.021500     -0.007077   \n",
       "energy            -0.011143  ...     -0.199357      0.188947     -0.212434   \n",
       "pitch             -0.093715  ...     -0.166791      0.200974     -0.247345   \n",
       "timbre_0_min      -0.050483  ...     -0.086934      0.062502      0.003492   \n",
       "timbre_0_max       0.034129  ...     -0.016033      0.016021     -0.099391   \n",
       "timbre_1_min       0.046780  ...     -0.285300      0.229677     -0.230310   \n",
       "timbre_1_max       1.000000  ...      0.197941     -0.312627      0.176279   \n",
       "timbre_2_min      -0.203620  ...     -0.301331      0.217194     -0.230542   \n",
       "timbre_2_max       0.299377  ...      0.103039     -0.275654      0.145664   \n",
       "timbre_3_min      -0.056329  ...     -0.157220      0.079916     -0.105882   \n",
       "timbre_3_max       0.145059  ...      0.289568     -0.040019      0.041059   \n",
       "timbre_4_min      -0.171819  ...     -0.065767      0.221361     -0.156003   \n",
       "timbre_4_max       0.307803  ...      0.233122     -0.388304      0.247136   \n",
       "timbre_5_min      -0.197162  ...     -0.218525      0.192456     -0.184784   \n",
       "timbre_5_max       0.146531  ...      0.166220     -0.059168      0.076309   \n",
       "timbre_6_min      -0.315593  ...     -0.285185      0.257277     -0.316982   \n",
       "timbre_6_max       0.175010  ...      0.188554     -0.312898      0.210299   \n",
       "timbre_7_min      -0.323592  ...     -0.397078      0.343670     -0.266103   \n",
       "timbre_7_max       0.197941  ...      1.000000     -0.220447      0.133111   \n",
       "timbre_8_min      -0.312627  ...     -0.220447      1.000000     -0.070439   \n",
       "timbre_8_max       0.176279  ...      0.133111     -0.070439      1.000000   \n",
       "timbre_9_min      -0.217678  ...     -0.432835      0.340924     -0.242168   \n",
       "timbre_9_max       0.325141  ...      0.326697     -0.199207      0.244961   \n",
       "timbre_10_min     -0.206753  ...     -0.196132      0.098768     -0.038089   \n",
       "timbre_10_max      0.138720  ...      0.188107     -0.086547      0.117199   \n",
       "timbre_11_min     -0.199106  ...     -0.107400      0.266219     -0.206720   \n",
       "timbre_11_max      0.184254  ...      0.118118     -0.279116      0.328841   \n",
       "Top10              0.112975  ...      0.047684     -0.090043      0.125266   \n",
       "\n",
       "               timbre_9_min  timbre_9_max  timbre_10_min  timbre_10_max  \\\n",
       "timesignature     -0.006702      0.035520      -0.013300       0.013351   \n",
       "loudness           0.130225     -0.051641      -0.166510       0.092458   \n",
       "tempo              0.068265     -0.025701       0.005357      -0.017003   \n",
       "key               -0.027417      0.010806       0.030227       0.026046   \n",
       "energy             0.325204     -0.142070      -0.078874       0.027291   \n",
       "pitch              0.253157     -0.196867       0.057935      -0.087150   \n",
       "timbre_0_min       0.089055      0.056880      -0.019769      -0.029331   \n",
       "timbre_0_max       0.056089     -0.077255      -0.129977       0.060999   \n",
       "timbre_1_min       0.432101     -0.146556      -0.061679      -0.028045   \n",
       "timbre_1_max      -0.217678      0.325141      -0.206753       0.138720   \n",
       "timbre_2_min       0.428609     -0.293141       0.312293      -0.233073   \n",
       "timbre_2_max      -0.122341      0.163684      -0.101466       0.079459   \n",
       "timbre_3_min       0.171161     -0.298669       0.223035      -0.061557   \n",
       "timbre_3_max      -0.275151      0.147548      -0.473532       0.192003   \n",
       "timbre_4_min       0.101249     -0.117595       0.126962      -0.111464   \n",
       "timbre_4_max      -0.363935      0.288845      -0.071832       0.093650   \n",
       "timbre_5_min       0.396992     -0.210286       0.132032      -0.179532   \n",
       "timbre_5_max      -0.194800      0.392160      -0.290345       0.316441   \n",
       "timbre_6_min       0.342937     -0.333206       0.198149      -0.162245   \n",
       "timbre_6_max      -0.219801      0.237126      -0.106138       0.110046   \n",
       "timbre_7_min       0.471149     -0.461457       0.171246      -0.174024   \n",
       "timbre_7_max      -0.432835      0.326697      -0.196132       0.188107   \n",
       "timbre_8_min       0.340924     -0.199207       0.098768      -0.086547   \n",
       "timbre_8_max      -0.242168      0.244961      -0.038089       0.117199   \n",
       "timbre_9_min       1.000000     -0.300696       0.126997      -0.182796   \n",
       "timbre_9_max      -0.300696      1.000000      -0.239082       0.275295   \n",
       "timbre_10_min      0.126997     -0.239082       1.000000      -0.236652   \n",
       "timbre_10_max     -0.182796      0.275295      -0.236652       1.000000   \n",
       "timbre_11_min      0.174389     -0.209103       0.105409      -0.097849   \n",
       "timbre_11_max     -0.245174      0.159750      -0.028109       0.102488   \n",
       "Top10             -0.082306      0.181558      -0.075747       0.059424   \n",
       "\n",
       "               timbre_11_min  timbre_11_max     Top10  \n",
       "timesignature      -0.098116      -0.009965  0.042578  \n",
       "loudness           -0.035145      -0.172367 -0.146339  \n",
       "tempo               0.006146      -0.029061 -0.013175  \n",
       "key                 0.007071       0.019344  0.036678  \n",
       "energy              0.029872      -0.251996 -0.116714  \n",
       "pitch               0.201732      -0.183772 -0.115194  \n",
       "timbre_0_min       -0.010532      -0.047785  0.193476  \n",
       "timbre_0_max       -0.020153      -0.101008 -0.203644  \n",
       "timbre_1_min        0.070929      -0.219309  0.029317  \n",
       "timbre_1_max       -0.199106       0.184254  0.112975  \n",
       "timbre_2_min        0.187481      -0.168172 -0.076145  \n",
       "timbre_2_max       -0.254243       0.197197  0.113495  \n",
       "timbre_3_min        0.043701      -0.078129  0.000008  \n",
       "timbre_3_max       -0.057998       0.005182 -0.010825  \n",
       "timbre_4_min        0.235801      -0.144549 -0.010625  \n",
       "timbre_4_max       -0.283515       0.260389  0.182908  \n",
       "timbre_5_min        0.192078      -0.124626 -0.119952  \n",
       "timbre_5_max       -0.108298       0.068319  0.097719  \n",
       "timbre_6_min        0.255960      -0.292390 -0.211092  \n",
       "timbre_6_max       -0.269194       0.267453  0.138107  \n",
       "timbre_7_min        0.223469      -0.218921 -0.163487  \n",
       "timbre_7_max       -0.107400       0.118118  0.047684  \n",
       "timbre_8_min        0.266219      -0.279116 -0.090043  \n",
       "timbre_8_max       -0.206720       0.328841  0.125266  \n",
       "timbre_9_min        0.174389      -0.245174 -0.082306  \n",
       "timbre_9_max       -0.209103       0.159750  0.181558  \n",
       "timbre_10_min       0.105409      -0.028109 -0.075747  \n",
       "timbre_10_max      -0.097849       0.102488  0.059424  \n",
       "timbre_11_min       1.000000      -0.060605 -0.181119  \n",
       "timbre_11_max      -0.060605       1.000000  0.105562  \n",
       "Top10              -0.181119       0.105562  1.000000  \n",
       "\n",
       "[31 rows x 31 columns]"
      ]
     },
     "execution_count": 24,
     "metadata": {},
     "output_type": "execute_result"
    }
   ],
   "source": [
    "df_songs.corr()"
   ]
  },
  {
   "cell_type": "code",
   "execution_count": 25,
   "metadata": {},
   "outputs": [
    {
     "data": {
      "text/plain": [
       "<matplotlib.axes._subplots.AxesSubplot at 0x134274a8>"
      ]
     },
     "execution_count": 25,
     "metadata": {},
     "output_type": "execute_result"
    },
    {
     "data": {
      "image/png": "[encoded data removed]",
      "text/plain": [
       "<Figure size 432x288 with 2 Axes>"
      ]
     },
     "metadata": {},
     "output_type": "display_data"
    }
   ],
   "source": [
    "sns.heatmap(df_songs.corr(), cmap='coolwarm')"
   ]
  },
  {
   "cell_type": "code",
   "execution_count": 11,
   "metadata": {},
   "outputs": [
    {
     "ename": "NameError",
     "evalue": "name 'df_songs' is not defined",
     "output_type": "error",
     "traceback": [
      "\u001b[1;31m---------------------------------------------------------------------------\u001b[0m",
      "\u001b[1;31mNameError\u001b[0m                                 Traceback (most recent call last)",
      "\u001b[1;32m<ipython-input-11-2cbe917a71a4>\u001b[0m in \u001b[0;36m<module>\u001b[1;34m\u001b[0m\n\u001b[0;32m      1\u001b[0m \u001b[1;31m##Loudness seems to be highly correlated with energy, we get rid of it\u001b[0m\u001b[1;33m\u001b[0m\u001b[1;33m\u001b[0m\u001b[1;33m\u001b[0m\u001b[0m\n\u001b[1;32m----> 2\u001b[1;33m \u001b[0mdf_songs\u001b[0m\u001b[1;33m.\u001b[0m\u001b[0mdrop\u001b[0m\u001b[1;33m(\u001b[0m\u001b[1;34m'loudness'\u001b[0m\u001b[1;33m,\u001b[0m \u001b[0maxis\u001b[0m\u001b[1;33m=\u001b[0m\u001b[1;36m1\u001b[0m\u001b[1;33m,\u001b[0m \u001b[0minplace\u001b[0m \u001b[1;33m=\u001b[0m \u001b[1;32mTrue\u001b[0m\u001b[1;33m)\u001b[0m\u001b[1;33m\u001b[0m\u001b[1;33m\u001b[0m\u001b[0m\n\u001b[0m",
      "\u001b[1;31mNameError\u001b[0m: name 'df_songs' is not defined"
     ]
    }
   ],
   "source": [
    "##Loudness seems to be highly correlated with energy, we get rid of it\n",
    "df_songs.drop('loudness', axis=1, inplace = True)"
   ]
  },
  {
   "cell_type": "markdown",
   "metadata": {},
   "source": [
    "### Just some more data exploration on our data subset..."
   ]
  },
  {
   "cell_type": "code",
   "execution_count": 27,
   "metadata": {},
   "outputs": [
    {
     "data": {
      "text/plain": [
       "<matplotlib.axes._subplots.AxesSubplot at 0x1482b148>"
      ]
     },
     "execution_count": 27,
     "metadata": {},
     "output_type": "execute_result"
    },
    {
     "data": {
      "image/png": "[encoded data removed]",
      "text/plain": [
       "<Figure size 432x288 with 1 Axes>"
      ]
     },
     "metadata": {},
     "output_type": "display_data"
    }
   ],
   "source": [
    "sns.countplot(df_songs.timesignature)"
   ]
  },
  {
   "cell_type": "code",
   "execution_count": 378,
   "metadata": {},
   "outputs": [
    {
     "data": {
      "text/plain": [
       "<matplotlib.axes._subplots.AxesSubplot at 0x3d32e988>"
      ]
     },
     "execution_count": 378,
     "metadata": {},
     "output_type": "execute_result"
    },
    {
     "data": {
      "image/png": "[encoded data removed]",
      "text/plain": [
       "<Figure size 432x288 with 1 Axes>"
      ]
     },
     "metadata": {},
     "output_type": "display_data"
    }
   ],
   "source": [
    "plt.title('Distribution of Tempo')\n",
    "sns.distplot(df_songs.tempo, color = 'r')"
   ]
  },
  {
   "cell_type": "code",
   "execution_count": 28,
   "metadata": {},
   "outputs": [
    {
     "data": {
      "text/plain": [
       "<matplotlib.axes._subplots.AxesSubplot at 0x1485b940>"
      ]
     },
     "execution_count": 28,
     "metadata": {},
     "output_type": "execute_result"
    },
    {
     "data": {
      "image/png": "[encoded data removed]",
      "text/plain": [
       "<Figure size 432x288 with 1 Axes>"
      ]
     },
     "metadata": {},
     "output_type": "display_data"
    }
   ],
   "source": [
    "plt.title('Distribution of Time Signature')\n",
    "sns.countplot(df_songs.timesignature)"
   ]
  },
  {
   "cell_type": "code",
   "execution_count": 30,
   "metadata": {},
   "outputs": [
    {
     "data": {
      "text/plain": [
       "(array([-5.,  0.,  5., 10., 15., 20., 25.]),\n",
       " <a list of 7 Text major ticklabel objects>)"
      ]
     },
     "execution_count": 30,
     "metadata": {},
     "output_type": "execute_result"
    },
    {
     "data": {
      "image/png": "[encoded data removed]",
      "text/plain": [
       "<Figure size 432x288 with 1 Axes>"
      ]
     },
     "metadata": {},
     "output_type": "display_data"
    }
   ],
   "source": [
    "#How timbre looks like plotted : \n",
    "df_songs.loc[1,'timbre_0_min' : 'timbre_11_max'].plot(color = 'r')\n",
    "plt.title('Timbre for Sticks & Bricks by A Day To Remember')\n",
    "plt.xticks(rotation=30)"
   ]
  },
  {
   "cell_type": "code",
   "execution_count": 29,
   "metadata": {},
   "outputs": [
    {
     "data": {
      "text/plain": [
       "<matplotlib.axes._subplots.AxesSubplot at 0x1348cbc8>"
      ]
     },
     "execution_count": 29,
     "metadata": {},
     "output_type": "execute_result"
    },
    {
     "data": {
      "image/png": "[encoded data removed]",
      "text/plain": [
       "<Figure size 432x288 with 1 Axes>"
      ]
     },
     "metadata": {},
     "output_type": "display_data"
    }
   ],
   "source": [
    "sns.countplot(df_songs.Top10)"
   ]
  },
  {
   "cell_type": "code",
   "execution_count": 31,
   "metadata": {},
   "outputs": [
    {
     "data": {
      "text/plain": [
       "0    2409\n",
       "1     355\n",
       "Name: Top10, dtype: int64"
      ]
     },
     "execution_count": 31,
     "metadata": {},
     "output_type": "execute_result"
    }
   ],
   "source": [
    "df_songs.Top10.value_counts()"
   ]
  },
  {
   "cell_type": "code",
   "execution_count": 32,
   "metadata": {},
   "outputs": [
    {
     "data": {
      "text/plain": [
       "<matplotlib.axes._subplots.AxesSubplot at 0x149a0688>"
      ]
     },
     "execution_count": 32,
     "metadata": {},
     "output_type": "execute_result"
    },
    {
     "data": {
      "image/png": "[encoded data removed]",
      "text/plain": [
       "<Figure size 432x288 with 1 Axes>"
      ]
     },
     "metadata": {},
     "output_type": "display_data"
    }
   ],
   "source": [
    "plt.title('Distribution of Key')\n",
    "sns.countplot(df_songs.key)"
   ]
  },
  {
   "cell_type": "code",
   "execution_count": 33,
   "metadata": {},
   "outputs": [
    {
     "data": {
      "text/plain": [
       "<matplotlib.axes._subplots.AxesSubplot at 0x149eee20>"
      ]
     },
     "execution_count": 33,
     "metadata": {},
     "output_type": "execute_result"
    },
    {
     "data": {
      "image/png": "[encoded data removed]",
      "text/plain": [
       "<Figure size 432x288 with 1 Axes>"
      ]
     },
     "metadata": {},
     "output_type": "display_data"
    }
   ],
   "source": [
    "plt.title('Distribution of Energy')\n",
    "sns.distplot(df_songs.energy, color = 'g')"
   ]
  },
  {
   "cell_type": "code",
   "execution_count": 12,
   "metadata": {},
   "outputs": [
    {
     "ename": "NameError",
     "evalue": "name 'df_songs' is not defined",
     "output_type": "error",
     "traceback": [
      "\u001b[1;31m---------------------------------------------------------------------------\u001b[0m",
      "\u001b[1;31mNameError\u001b[0m                                 Traceback (most recent call last)",
      "\u001b[1;32m<ipython-input-12-53c4af5bd40c>\u001b[0m in \u001b[0;36m<module>\u001b[1;34m\u001b[0m\n\u001b[0;32m      1\u001b[0m \u001b[1;31m## What are the correlations with our predicted variable (Top10) ?\u001b[0m\u001b[1;33m\u001b[0m\u001b[1;33m\u001b[0m\u001b[1;33m\u001b[0m\u001b[0m\n\u001b[1;32m----> 2\u001b[1;33m \u001b[0mdf_songs\u001b[0m\u001b[1;33m.\u001b[0m\u001b[0mdrop\u001b[0m\u001b[1;33m(\u001b[0m\u001b[1;34m'Top10'\u001b[0m\u001b[1;33m,\u001b[0m \u001b[0maxis\u001b[0m\u001b[1;33m=\u001b[0m\u001b[1;36m1\u001b[0m\u001b[1;33m)\u001b[0m\u001b[1;33m.\u001b[0m\u001b[0mcorrwith\u001b[0m\u001b[1;33m(\u001b[0m\u001b[0mdf_songs\u001b[0m\u001b[1;33m.\u001b[0m\u001b[0mTop10\u001b[0m\u001b[1;33m)\u001b[0m\u001b[1;33m.\u001b[0m\u001b[0mplot\u001b[0m\u001b[1;33m.\u001b[0m\u001b[0mbar\u001b[0m\u001b[1;33m(\u001b[0m\u001b[0mfigsize\u001b[0m \u001b[1;33m=\u001b[0m \u001b[1;33m(\u001b[0m\u001b[1;36m15\u001b[0m\u001b[1;33m,\u001b[0m \u001b[1;36m10\u001b[0m\u001b[1;33m)\u001b[0m\u001b[1;33m,\u001b[0m \u001b[0mtitle\u001b[0m \u001b[1;33m=\u001b[0m \u001b[1;34m\"Correlation with Top10\"\u001b[0m\u001b[1;33m,\u001b[0m \u001b[0mfontsize\u001b[0m \u001b[1;33m=\u001b[0m \u001b[1;36m10\u001b[0m\u001b[1;33m,\u001b[0m\u001b[0mgrid\u001b[0m \u001b[1;33m=\u001b[0m \u001b[1;32mTrue\u001b[0m\u001b[1;33m,\u001b[0m \u001b[0mcolor\u001b[0m\u001b[1;33m=\u001b[0m\u001b[0mnp\u001b[0m\u001b[1;33m.\u001b[0m\u001b[0mrandom\u001b[0m\u001b[1;33m.\u001b[0m\u001b[0mrandom\u001b[0m\u001b[1;33m(\u001b[0m\u001b[1;36m3\u001b[0m\u001b[1;33m)\u001b[0m \u001b[1;33m)\u001b[0m\u001b[1;33m\u001b[0m\u001b[1;33m\u001b[0m\u001b[0m\n\u001b[0m",
      "\u001b[1;31mNameError\u001b[0m: name 'df_songs' is not defined"
     ]
    }
   ],
   "source": [
    "## What are the correlations with our predicted variable (Top10) ?\n",
    "df_songs.drop('Top10', axis=1).corrwith(df_songs.Top10).plot.bar(figsize = (15, 10), title = \"Correlation with Top10\", fontsize = 10,grid = True, color=np.random.random(3) )"
   ]
  },
  {
   "cell_type": "markdown",
   "metadata": {},
   "source": [
    "## Model"
   ]
  },
  {
   "cell_type": "markdown",
   "metadata": {},
   "source": [
    "## Splitting the data for training & testing"
   ]
  },
  {
   "cell_type": "code",
   "execution_count": 226,
   "metadata": {},
   "outputs": [
    {
     "data": {
      "text/plain": [
       "0    0.871563\n",
       "1    0.128437\n",
       "Name: Top10, dtype: float64"
      ]
     },
     "execution_count": 226,
     "metadata": {},
     "output_type": "execute_result"
    }
   ],
   "source": [
    "#Checking for imbalanced data : \n",
    "df_songs.Top10.value_counts(normalize = True)"
   ]
  },
  {
   "cell_type": "code",
   "execution_count": 132,
   "metadata": {},
   "outputs": [],
   "source": [
    "#Splitting the dataset : \n",
    "from sklearn.model_selection import train_test_split\n",
    "X_train, X_test, y_train, y_test = train_test_split(df_songs.drop('Top10', axis=1), df_songs.Top10, test_size = 0.20, random_state = 42, stratify = df_songs.Top10)"
   ]
  },
  {
   "cell_type": "markdown",
   "metadata": {},
   "source": [
    "## Decision Tree"
   ]
  },
  {
   "cell_type": "code",
   "execution_count": 41,
   "metadata": {},
   "outputs": [],
   "source": [
    "from sklearn.tree import DecisionTreeClassifier\n",
    "model1 = DecisionTreeClassifier()\n",
    "model1.fit(X_train,y_train)\n",
    "pred1 = model1.predict(X_test)"
   ]
  },
  {
   "cell_type": "code",
   "execution_count": 42,
   "metadata": {},
   "outputs": [
    {
     "data": {
      "text/plain": [
       "array([[425,  57],\n",
       "       [ 42,  29]], dtype=int64)"
      ]
     },
     "execution_count": 42,
     "metadata": {},
     "output_type": "execute_result"
    }
   ],
   "source": [
    "from sklearn.metrics import confusion_matrix\n",
    "confusion_matrix(y_test, pred1)"
   ]
  },
  {
   "cell_type": "code",
   "execution_count": 43,
   "metadata": {},
   "outputs": [
    {
     "data": {
      "text/plain": [
       "0.8209764918625678"
      ]
     },
     "execution_count": 43,
     "metadata": {},
     "output_type": "execute_result"
    }
   ],
   "source": [
    "from sklearn.metrics import accuracy_score\n",
    "accuracy_score(y_test, pred1)"
   ]
  },
  {
   "cell_type": "markdown",
   "metadata": {},
   "source": [
    "## Random Forest"
   ]
  },
  {
   "cell_type": "code",
   "execution_count": 44,
   "metadata": {},
   "outputs": [],
   "source": [
    "from sklearn.ensemble import RandomForestClassifier\n",
    "model2 = DecisionTreeClassifier()\n",
    "model2.fit(X_train,y_train)\n",
    "pred2 = model2.predict(X_test)"
   ]
  },
  {
   "cell_type": "code",
   "execution_count": 45,
   "metadata": {},
   "outputs": [
    {
     "data": {
      "text/plain": [
       "array([[425,  57],\n",
       "       [ 46,  25]], dtype=int64)"
      ]
     },
     "execution_count": 45,
     "metadata": {},
     "output_type": "execute_result"
    }
   ],
   "source": [
    "confusion_matrix(y_test, pred2)"
   ]
  },
  {
   "cell_type": "code",
   "execution_count": 46,
   "metadata": {},
   "outputs": [
    {
     "data": {
      "text/plain": [
       "0.8137432188065099"
      ]
     },
     "execution_count": 46,
     "metadata": {},
     "output_type": "execute_result"
    }
   ],
   "source": [
    "accuracy_score(y_test, pred2)"
   ]
  },
  {
   "cell_type": "markdown",
   "metadata": {},
   "source": [
    "## Logistic Regression "
   ]
  },
  {
   "cell_type": "code",
   "execution_count": 154,
   "metadata": {},
   "outputs": [],
   "source": [
    "from sklearn.linear_model import LogisticRegression\n",
    "model3 = LogisticRegression(max_iter=10000, class_weight='balance')\n",
    "model3.fit(X_train,y_train)\n",
    "pred3 = model3.predict(X_test)"
   ]
  },
  {
   "cell_type": "code",
   "execution_count": 155,
   "metadata": {},
   "outputs": [
    {
     "data": {
      "text/plain": [
       "array([[476,   6],\n",
       "       [ 56,  15]], dtype=int64)"
      ]
     },
     "execution_count": 155,
     "metadata": {},
     "output_type": "execute_result"
    }
   ],
   "source": [
    "confusion_matrix(y_test, pred3)"
   ]
  },
  {
   "cell_type": "code",
   "execution_count": 156,
   "metadata": {},
   "outputs": [
    {
     "data": {
      "text/plain": [
       "0.8878842676311031"
      ]
     },
     "execution_count": 156,
     "metadata": {},
     "output_type": "execute_result"
    }
   ],
   "source": [
    "accuracy_score(y_test, pred3)"
   ]
  },
  {
   "cell_type": "markdown",
   "metadata": {},
   "source": [
    "### Trying with feature selection"
   ]
  },
  {
   "cell_type": "code",
   "execution_count": 50,
   "metadata": {},
   "outputs": [],
   "source": [
    "from sklearn.feature_selection import RFE\n",
    "from sklearn.linear_model import LogisticRegression"
   ]
  },
  {
   "cell_type": "code",
   "execution_count": 133,
   "metadata": {},
   "outputs": [
    {
     "name": "stdout",
     "output_type": "stream",
     "text": [
      "Index(['timesignature', 'tempo', 'key', 'energy', 'pitch', 'timbre_0_min',\n",
      "       'timbre_0_max', 'timbre_1_min', 'timbre_1_max', 'timbre_2_min',\n",
      "       'timbre_2_max', 'timbre_3_min', 'timbre_3_max', 'timbre_4_min',\n",
      "       'timbre_4_max', 'timbre_5_min', 'timbre_5_max', 'timbre_6_min',\n",
      "       'timbre_6_max', 'timbre_7_min', 'timbre_7_max', 'timbre_8_min',\n",
      "       'timbre_8_max', 'timbre_9_min', 'timbre_9_max', 'timbre_10_min',\n",
      "       'timbre_10_max', 'timbre_11_min', 'timbre_11_max'],\n",
      "      dtype='object')\n",
      "[ True False  True  True  True  True  True False False False False False\n",
      " False  True  True False False  True  True  True  True False False False\n",
      "  True False False  True False]\n",
      "[ 1 13  1  1  1  1  1  4  9 15 11 10  6  1  1  3 14  1  1  1  1  8  7 12\n",
      "  1  5 16  1  2]\n"
     ]
    }
   ],
   "source": [
    "logreg = LogisticRegression(max_iter=10000)\n",
    "rfe = RFE(logreg)\n",
    "rfe = rfe.fit(X_train, y_train)\n",
    "X_test.columns[rfe.support_]"
   ]
  },
  {
   "cell_type": "code",
   "execution_count": 52,
   "metadata": {},
   "outputs": [],
   "source": [
    "pred9 = rfe.predict(X_test)"
   ]
  },
  {
   "cell_type": "code",
   "execution_count": 53,
   "metadata": {},
   "outputs": [
    {
     "data": {
      "text/plain": [
       "array([[479,   3],\n",
       "       [ 65,   6]], dtype=int64)"
      ]
     },
     "execution_count": 53,
     "metadata": {},
     "output_type": "execute_result"
    }
   ],
   "source": [
    "confusion_matrix(y_test, pred9)"
   ]
  },
  {
   "cell_type": "code",
   "execution_count": 54,
   "metadata": {},
   "outputs": [
    {
     "data": {
      "text/plain": [
       "0.8770343580470162"
      ]
     },
     "execution_count": 54,
     "metadata": {},
     "output_type": "execute_result"
    }
   ],
   "source": [
    "accuracy_score(y_test, pred9)"
   ]
  },
  {
   "cell_type": "markdown",
   "metadata": {},
   "source": [
    "## With class weight balanced"
   ]
  },
  {
   "cell_type": "code",
   "execution_count": 56,
   "metadata": {},
   "outputs": [],
   "source": [
    "from sklearn.linear_model import LogisticRegression\n",
    "model11 = LogisticRegression(max_iter=10000, class_weight='balanced')\n",
    "model11.fit(X_train,y_train)\n",
    "pred11 = model11.predict(X_test)"
   ]
  },
  {
   "cell_type": "code",
   "execution_count": 57,
   "metadata": {},
   "outputs": [
    {
     "data": {
      "text/plain": [
       "array([[359, 123],\n",
       "       [ 13,  58]], dtype=int64)"
      ]
     },
     "execution_count": 57,
     "metadata": {},
     "output_type": "execute_result"
    }
   ],
   "source": [
    "confusion_matrix(y_test, pred11)"
   ]
  },
  {
   "cell_type": "code",
   "execution_count": 58,
   "metadata": {},
   "outputs": [
    {
     "data": {
      "text/plain": [
       "0.7540687160940326"
      ]
     },
     "execution_count": 58,
     "metadata": {},
     "output_type": "execute_result"
    }
   ],
   "source": [
    "accuracy_score(y_test, pred11)"
   ]
  },
  {
   "cell_type": "markdown",
   "metadata": {},
   "source": [
    "## AdaBoost"
   ]
  },
  {
   "cell_type": "code",
   "execution_count": 59,
   "metadata": {},
   "outputs": [],
   "source": [
    "from sklearn.ensemble import AdaBoostClassifier"
   ]
  },
  {
   "cell_type": "code",
   "execution_count": 153,
   "metadata": {},
   "outputs": [
    {
     "ename": "TypeError",
     "evalue": "__init__() got an unexpected keyword argument 'class_weight'",
     "output_type": "error",
     "traceback": [
      "\u001b[1;31m---------------------------------------------------------------------------\u001b[0m",
      "\u001b[1;31mTypeError\u001b[0m                                 Traceback (most recent call last)",
      "\u001b[1;32m<ipython-input-153-2b3445c08af7>\u001b[0m in \u001b[0;36m<module>\u001b[1;34m\u001b[0m\n\u001b[1;32m----> 1\u001b[1;33m \u001b[0mmodel4\u001b[0m \u001b[1;33m=\u001b[0m \u001b[0mAdaBoostClassifier\u001b[0m\u001b[1;33m(\u001b[0m\u001b[0mclass_weight\u001b[0m \u001b[1;33m=\u001b[0m \u001b[1;34m'balanced'\u001b[0m\u001b[1;33m)\u001b[0m\u001b[1;33m\u001b[0m\u001b[1;33m\u001b[0m\u001b[0m\n\u001b[0m\u001b[0;32m      2\u001b[0m \u001b[0mmodel4\u001b[0m\u001b[1;33m.\u001b[0m\u001b[0mfit\u001b[0m\u001b[1;33m(\u001b[0m\u001b[0mX_train\u001b[0m\u001b[1;33m,\u001b[0m \u001b[0my_train\u001b[0m\u001b[1;33m)\u001b[0m\u001b[1;33m\u001b[0m\u001b[1;33m\u001b[0m\u001b[0m\n\u001b[0;32m      3\u001b[0m \u001b[0mpred4\u001b[0m \u001b[1;33m=\u001b[0m \u001b[0mmodel4\u001b[0m\u001b[1;33m.\u001b[0m\u001b[0mpredict\u001b[0m\u001b[1;33m(\u001b[0m\u001b[0mX_test\u001b[0m\u001b[1;33m)\u001b[0m\u001b[1;33m\u001b[0m\u001b[1;33m\u001b[0m\u001b[0m\n",
      "\u001b[1;31mTypeError\u001b[0m: __init__() got an unexpected keyword argument 'class_weight'"
     ]
    }
   ],
   "source": [
    "model4 = AdaBoostClassifier()\n",
    "model4.fit(X_train, y_train)\n",
    "pred4 = model4.predict(X_test)"
   ]
  },
  {
   "cell_type": "code",
   "execution_count": 61,
   "metadata": {},
   "outputs": [
    {
     "data": {
      "text/plain": [
       "array([[469,  13],\n",
       "       [ 49,  22]], dtype=int64)"
      ]
     },
     "execution_count": 61,
     "metadata": {},
     "output_type": "execute_result"
    }
   ],
   "source": [
    "confusion_matrix(y_test, pred4)"
   ]
  },
  {
   "cell_type": "code",
   "execution_count": 62,
   "metadata": {},
   "outputs": [
    {
     "data": {
      "text/plain": [
       "0.8878842676311031"
      ]
     },
     "execution_count": 62,
     "metadata": {},
     "output_type": "execute_result"
    }
   ],
   "source": [
    "accuracy_score(y_test, pred4)"
   ]
  },
  {
   "cell_type": "markdown",
   "metadata": {},
   "source": [
    "### Trying with feature selection"
   ]
  },
  {
   "cell_type": "code",
   "execution_count": 63,
   "metadata": {},
   "outputs": [
    {
     "name": "stdout",
     "output_type": "stream",
     "text": [
      "[False  True False  True  True  True  True  True  True False  True False\n",
      "  True False  True  True False  True False False  True False False False\n",
      " False False False  True False]\n",
      "[16  1 14  1  1  1  1  1  1  8  1  5  1 11  1  1 13  1  3  4  1  9 10  6\n",
      "  7  2 12  1 15]\n",
      "Index(['timesignature', 'tempo', 'key', 'energy', 'pitch', 'timbre_0_min',\n",
      "       'timbre_0_max', 'timbre_1_min', 'timbre_1_max', 'timbre_2_min',\n",
      "       'timbre_2_max', 'timbre_3_min', 'timbre_3_max', 'timbre_4_min',\n",
      "       'timbre_4_max', 'timbre_5_min', 'timbre_5_max', 'timbre_6_min',\n",
      "       'timbre_6_max', 'timbre_7_min', 'timbre_7_max', 'timbre_8_min',\n",
      "       'timbre_8_max', 'timbre_9_min', 'timbre_9_max', 'timbre_10_min',\n",
      "       'timbre_10_max', 'timbre_11_min', 'timbre_11_max'],\n",
      "      dtype='object')\n"
     ]
    }
   ],
   "source": [
    "adaboost = AdaBoostClassifier()\n",
    "rfe = RFE(adaboost)\n",
    "rfe = rfe.fit(X_train, y_train)\n",
    "print(rfe.support_)\n",
    "print(rfe.ranking_)"
   ]
  },
  {
   "cell_type": "code",
   "execution_count": 67,
   "metadata": {},
   "outputs": [
    {
     "data": {
      "text/plain": [
       "Index(['tempo', 'energy', 'pitch', 'timbre_0_min', 'timbre_0_max',\n",
       "       'timbre_1_min', 'timbre_1_max', 'timbre_2_max', 'timbre_3_max',\n",
       "       'timbre_4_max', 'timbre_5_min', 'timbre_6_min', 'timbre_7_max',\n",
       "       'timbre_11_min'],\n",
       "      dtype='object')"
      ]
     },
     "execution_count": 67,
     "metadata": {},
     "output_type": "execute_result"
    }
   ],
   "source": [
    "X_test.columns[rfe.support_]"
   ]
  },
  {
   "cell_type": "code",
   "execution_count": 64,
   "metadata": {},
   "outputs": [],
   "source": [
    "pred10 = rfe.predict(X_test)"
   ]
  },
  {
   "cell_type": "code",
   "execution_count": 65,
   "metadata": {},
   "outputs": [
    {
     "data": {
      "text/plain": [
       "array([[465,  17],\n",
       "       [ 51,  20]], dtype=int64)"
      ]
     },
     "execution_count": 65,
     "metadata": {},
     "output_type": "execute_result"
    }
   ],
   "source": [
    "confusion_matrix(y_test, pred10)"
   ]
  },
  {
   "cell_type": "code",
   "execution_count": 66,
   "metadata": {},
   "outputs": [
    {
     "data": {
      "text/plain": [
       "0.8770343580470162"
      ]
     },
     "execution_count": 66,
     "metadata": {},
     "output_type": "execute_result"
    }
   ],
   "source": [
    "accuracy_score(y_test, pred10)"
   ]
  },
  {
   "cell_type": "markdown",
   "metadata": {},
   "source": [
    "## Gaussian Naive Bayes"
   ]
  },
  {
   "cell_type": "code",
   "execution_count": 68,
   "metadata": {},
   "outputs": [],
   "source": [
    "from sklearn.naive_bayes import GaussianNB"
   ]
  },
  {
   "cell_type": "code",
   "execution_count": 69,
   "metadata": {},
   "outputs": [],
   "source": [
    "model5 = GaussianNB()\n",
    "model5.fit(X_train, y_train)\n",
    "pred5 = model5.predict(X_test)"
   ]
  },
  {
   "cell_type": "code",
   "execution_count": 70,
   "metadata": {},
   "outputs": [
    {
     "data": {
      "text/plain": [
       "array([[388,  94],\n",
       "       [ 19,  52]], dtype=int64)"
      ]
     },
     "execution_count": 70,
     "metadata": {},
     "output_type": "execute_result"
    }
   ],
   "source": [
    "confusion_matrix(y_test, pred5)"
   ]
  },
  {
   "cell_type": "code",
   "execution_count": 71,
   "metadata": {},
   "outputs": [
    {
     "data": {
      "text/plain": [
       "0.7956600361663653"
      ]
     },
     "execution_count": 71,
     "metadata": {},
     "output_type": "execute_result"
    }
   ],
   "source": [
    "accuracy_score(y_test, pred5)"
   ]
  },
  {
   "cell_type": "markdown",
   "metadata": {},
   "source": [
    "## Support Vector Machine"
   ]
  },
  {
   "cell_type": "markdown",
   "metadata": {},
   "source": [
    "### NuSVC"
   ]
  },
  {
   "cell_type": "code",
   "execution_count": 72,
   "metadata": {},
   "outputs": [],
   "source": [
    "from sklearn.svm import NuSVC"
   ]
  },
  {
   "cell_type": "code",
   "execution_count": 73,
   "metadata": {},
   "outputs": [],
   "source": [
    "model6 = NuSVC(nu=0.2)\n",
    "model6.fit(X_train, y_train)\n",
    "pred6 = model6.predict(X_test)"
   ]
  },
  {
   "cell_type": "code",
   "execution_count": 74,
   "metadata": {},
   "outputs": [
    {
     "data": {
      "text/plain": [
       "array([[460,  22],\n",
       "       [ 48,  23]], dtype=int64)"
      ]
     },
     "execution_count": 74,
     "metadata": {},
     "output_type": "execute_result"
    }
   ],
   "source": [
    "confusion_matrix(y_test, pred6)"
   ]
  },
  {
   "cell_type": "code",
   "execution_count": 75,
   "metadata": {},
   "outputs": [
    {
     "data": {
      "text/plain": [
       "0.8734177215189873"
      ]
     },
     "execution_count": 75,
     "metadata": {},
     "output_type": "execute_result"
    }
   ],
   "source": [
    "accuracy_score(y_test, pred6)"
   ]
  },
  {
   "cell_type": "markdown",
   "metadata": {},
   "source": [
    "## SVC"
   ]
  },
  {
   "cell_type": "code",
   "execution_count": 76,
   "metadata": {},
   "outputs": [],
   "source": [
    "from sklearn.svm import SVC\n",
    "model7 = SVC(probability=True)\n",
    "model7.fit(X_train, y_train)\n",
    "pred7 = model7.predict(X_test)"
   ]
  },
  {
   "cell_type": "code",
   "execution_count": 77,
   "metadata": {},
   "outputs": [
    {
     "data": {
      "text/plain": [
       "array([[482,   0],\n",
       "       [ 70,   1]], dtype=int64)"
      ]
     },
     "execution_count": 77,
     "metadata": {},
     "output_type": "execute_result"
    }
   ],
   "source": [
    "confusion_matrix(y_test, pred7)"
   ]
  },
  {
   "cell_type": "code",
   "execution_count": 78,
   "metadata": {},
   "outputs": [
    {
     "data": {
      "text/plain": [
       "0.8734177215189873"
      ]
     },
     "execution_count": 78,
     "metadata": {},
     "output_type": "execute_result"
    }
   ],
   "source": [
    "accuracy_score(y_test, pred7)"
   ]
  },
  {
   "cell_type": "markdown",
   "metadata": {},
   "source": [
    "# KNN"
   ]
  },
  {
   "cell_type": "code",
   "execution_count": 79,
   "metadata": {},
   "outputs": [],
   "source": [
    "from sklearn.neighbors import KNeighborsClassifier"
   ]
  },
  {
   "cell_type": "code",
   "execution_count": 80,
   "metadata": {},
   "outputs": [],
   "source": [
    "model8 = KNeighborsClassifier(9)\n",
    "model8.fit(X_train, y_train)\n",
    "pred8 = model8.predict(X_test)"
   ]
  },
  {
   "cell_type": "code",
   "execution_count": 81,
   "metadata": {},
   "outputs": [
    {
     "data": {
      "text/plain": [
       "array([[473,   9],\n",
       "       [ 60,  11]], dtype=int64)"
      ]
     },
     "execution_count": 81,
     "metadata": {},
     "output_type": "execute_result"
    }
   ],
   "source": [
    "confusion_matrix(y_test, pred8)"
   ]
  },
  {
   "cell_type": "code",
   "execution_count": 82,
   "metadata": {},
   "outputs": [
    {
     "data": {
      "text/plain": [
       "0.8752260397830018"
      ]
     },
     "execution_count": 82,
     "metadata": {},
     "output_type": "execute_result"
    }
   ],
   "source": [
    "accuracy_score(y_test, pred8)"
   ]
  },
  {
   "cell_type": "markdown",
   "metadata": {},
   "source": [
    "## Evaluation of Model : ROC Curve"
   ]
  },
  {
   "cell_type": "code",
   "execution_count": 83,
   "metadata": {},
   "outputs": [],
   "source": [
    "from sklearn.metrics import auc, roc_auc_score, roc_curve\n",
    "import matplotlib.pyplot as plt"
   ]
  },
  {
   "cell_type": "markdown",
   "metadata": {},
   "source": [
    "### Logistic Regression"
   ]
  },
  {
   "cell_type": "code",
   "execution_count": 84,
   "metadata": {},
   "outputs": [
    {
     "data": {
      "image/png": "[encoded data removed]",
      "text/plain": [
       "<Figure size 432x288 with 1 Axes>"
      ]
     },
     "metadata": {},
     "output_type": "display_data"
    }
   ],
   "source": [
    "model_roc = roc_auc_score(y_test,pred3)\n",
    "fpr, tpr,thresholds = roc_curve(y_test, model3.predict_proba(X_test)[:,1])\n",
    "plt.figure()\n",
    "plt.plot(fpr, tpr, label=f'Logistic Regression, area={model_roc.round(2)}')\n",
    "plt.plot([0,1],[0,1])\n",
    "plt.legend()\n",
    "plt.show()"
   ]
  },
  {
   "cell_type": "markdown",
   "metadata": {},
   "source": [
    "### Logistic Regression with RFE"
   ]
  },
  {
   "cell_type": "code",
   "execution_count": 462,
   "metadata": {},
   "outputs": [
    {
     "data": {
      "image/png": "[encoded data removed]",
      "text/plain": [
       "<Figure size 432x288 with 1 Axes>"
      ]
     },
     "metadata": {},
     "output_type": "display_data"
    }
   ],
   "source": [
    "model_roc = roc_auc_score(y_test,pred9)\n",
    "fpr, tpr,thresholds = roc_curve(y_test, rfe.predict_proba(X_test)[:,1])\n",
    "plt.figure()\n",
    "plt.plot(fpr, tpr, label=f'Logistic Regression with RFE, area={model_roc.round(2)}')\n",
    "plt.plot([0,1],[0,1])\n",
    "plt.legend()\n",
    "plt.show()"
   ]
  },
  {
   "cell_type": "markdown",
   "metadata": {},
   "source": [
    "### AdaBoost"
   ]
  },
  {
   "cell_type": "code",
   "execution_count": 86,
   "metadata": {},
   "outputs": [
    {
     "data": {
      "image/png": "[encoded data removed]",
      "text/plain": [
       "<Figure size 432x288 with 1 Axes>"
      ]
     },
     "metadata": {},
     "output_type": "display_data"
    }
   ],
   "source": [
    "model_roc = roc_auc_score(y_test,pred4)\n",
    "fpr, tpr,thresholds = roc_curve(y_test, model4.predict_proba(X_test)[:,1])\n",
    "plt.figure()\n",
    "plt.plot(fpr, tpr, label=f'AdaBoost, area={model_roc.round(2)}')\n",
    "plt.plot([0,1],[0,1])\n",
    "plt.legend()\n",
    "plt.show()"
   ]
  },
  {
   "cell_type": "markdown",
   "metadata": {},
   "source": [
    "### NuSVC"
   ]
  },
  {
   "cell_type": "code",
   "execution_count": 85,
   "metadata": {},
   "outputs": [
    {
     "data": {
      "image/png": "[encoded data removed]",
      "text/plain": [
       "<Figure size 432x288 with 1 Axes>"
      ]
     },
     "metadata": {},
     "output_type": "display_data"
    }
   ],
   "source": [
    "model_roc = roc_auc_score(y_test,pred7)\n",
    "fpr, tpr,thresholds = roc_curve(y_test, model7.predict_proba(X_test)[:,1])\n",
    "plt.figure()\n",
    "plt.plot(fpr, tpr, label=f'Support Vector Machine, area={model_roc.round(2)}')\n",
    "plt.plot([0,1],[0,1])\n",
    "plt.legend()\n",
    "plt.show()"
   ]
  },
  {
   "cell_type": "markdown",
   "metadata": {},
   "source": [
    "## Calculating the metrics"
   ]
  },
  {
   "cell_type": "code",
   "execution_count": 92,
   "metadata": {},
   "outputs": [],
   "source": [
    "from sklearn.metrics import classification_report"
   ]
  },
  {
   "cell_type": "markdown",
   "metadata": {},
   "source": [
    "### Logistic Regression"
   ]
  },
  {
   "cell_type": "code",
   "execution_count": 91,
   "metadata": {},
   "outputs": [
    {
     "name": "stdout",
     "output_type": "stream",
     "text": [
      "              precision    recall  f1-score   support\n",
      "\n",
      "           0       0.89      0.99      0.94       482\n",
      "           1       0.69      0.15      0.25        71\n",
      "\n",
      "    accuracy                           0.88       553\n",
      "   macro avg       0.79      0.57      0.59       553\n",
      "weighted avg       0.86      0.88      0.85       553\n",
      "\n"
     ]
    }
   ],
   "source": [
    "print(classification_report(y_test, pred3))"
   ]
  },
  {
   "cell_type": "markdown",
   "metadata": {},
   "source": [
    "### Logistic Regression with RFE"
   ]
  },
  {
   "cell_type": "code",
   "execution_count": 461,
   "metadata": {},
   "outputs": [
    {
     "name": "stdout",
     "output_type": "stream",
     "text": [
      "              precision    recall  f1-score   support\n",
      "\n",
      "           0       0.89      0.99      0.94       482\n",
      "           1       0.71      0.21      0.33        71\n",
      "\n",
      "    accuracy                           0.89       553\n",
      "   macro avg       0.80      0.60      0.63       553\n",
      "weighted avg       0.87      0.89      0.86       553\n",
      "\n"
     ]
    }
   ],
   "source": [
    "print(classification_report(y_test, pred9))"
   ]
  },
  {
   "cell_type": "markdown",
   "metadata": {},
   "source": [
    "### AdaBoost"
   ]
  },
  {
   "cell_type": "code",
   "execution_count": 428,
   "metadata": {},
   "outputs": [
    {
     "name": "stdout",
     "output_type": "stream",
     "text": [
      "              precision    recall  f1-score   support\n",
      "\n",
      "           0       0.90      0.96      0.93       482\n",
      "           1       0.56      0.31      0.40        71\n",
      "\n",
      "    accuracy                           0.88       553\n",
      "   macro avg       0.73      0.64      0.67       553\n",
      "weighted avg       0.86      0.88      0.87       553\n",
      "\n"
     ]
    }
   ],
   "source": [
    "print(classification_report(y_test, pred4))"
   ]
  },
  {
   "cell_type": "markdown",
   "metadata": {},
   "source": [
    "### NuSVC"
   ]
  },
  {
   "cell_type": "code",
   "execution_count": 433,
   "metadata": {},
   "outputs": [
    {
     "name": "stdout",
     "output_type": "stream",
     "text": [
      "              precision    recall  f1-score   support\n",
      "\n",
      "           0       0.91      0.95      0.93       482\n",
      "           1       0.49      0.34      0.40        71\n",
      "\n",
      "    accuracy                           0.87       553\n",
      "   macro avg       0.70      0.64      0.66       553\n",
      "weighted avg       0.85      0.87      0.86       553\n",
      "\n",
      "None\n"
     ]
    }
   ],
   "source": [
    "print(print(classification_report(y_test, pred6)))"
   ]
  }
 ],
 "metadata": {
  "kernelspec": {
   "display_name": "Python 3",
   "language": "python",
   "name": "python3"
  },
  "language_info": {
   "codemirror_mode": {
    "name": "ipython",
    "version": 3
   },
   "file_extension": ".py",
   "mimetype": "text/x-python",
   "name": "python",
   "nbconvert_exporter": "python",
   "pygments_lexer": "ipython3",
   "version": "3.8.2"
  }
 },
 "nbformat": 4,
 "nbformat_minor": 4
}
